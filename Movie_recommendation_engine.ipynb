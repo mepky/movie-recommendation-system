{
  "nbformat": 4,
  "nbformat_minor": 0,
  "metadata": {
    "colab": {
      "name": "Movie recommendation engine.ipynb",
      "version": "0.3.2",
      "provenance": [],
      "toc_visible": true,
      "include_colab_link": true
    },
    "kernelspec": {
      "name": "python3",
      "display_name": "Python 3"
    },
    "accelerator": "GPU"
  },
  "cells": [
    {
      "cell_type": "markdown",
      "metadata": {
        "id": "view-in-github",
        "colab_type": "text"
      },
      "source": [
        "<a href=\"https://colab.research.google.com/github/mepky/movie-recommendation-system/blob/master/Movie_recommendation_engine.ipynb\" target=\"_parent\"><img src=\"https://colab.research.google.com/assets/colab-badge.svg\" alt=\"Open In Colab\"/></a>"
      ]
    },
    {
      "metadata": {
        "id": "lFgIisQ33AV-",
        "colab_type": "code",
        "colab": {}
      },
      "cell_type": "code",
      "source": [
        "import pandas as pd\n",
        "import numpy as np\n",
        "import matplotlib.pyplot as plt\n",
        "import seaborn as sns\n",
        "from scipy import stats\n",
        "from ast import literal_eval\n",
        "from sklearn.metrics.pairwise import linear_kernel,cosine_similarity"
      ],
      "execution_count": 0,
      "outputs": []
    },
    {
      "metadata": {
        "id": "DWaEWsP3jLvn",
        "colab_type": "code",
        "outputId": "fad7d9e4-8bb1-4e94-b52f-033564c855d3",
        "colab": {
          "base_uri": "https://localhost:8080/",
          "height": 136
        }
      },
      "cell_type": "code",
      "source": [
        "!pip install nltk\n",
        "\n",
        "import nltk\n",
        "nltk.download('stopwords')\n",
        "nltk.download('wordnet')\n"
      ],
      "execution_count": 0,
      "outputs": [
        {
          "output_type": "stream",
          "text": [
            "Requirement already satisfied: nltk in /usr/local/lib/python3.6/dist-packages (3.2.5)\n",
            "Requirement already satisfied: six in /usr/local/lib/python3.6/dist-packages (from nltk) (1.11.0)\n",
            "[nltk_data] Downloading package stopwords to /root/nltk_data...\n",
            "[nltk_data]   Unzipping corpora/stopwords.zip.\n",
            "[nltk_data] Downloading package wordnet to /root/nltk_data...\n",
            "[nltk_data]   Unzipping corpora/wordnet.zip.\n"
          ],
          "name": "stdout"
        },
        {
          "output_type": "execute_result",
          "data": {
            "text/plain": [
              "True"
            ]
          },
          "metadata": {
            "tags": []
          },
          "execution_count": 2
        }
      ]
    },
    {
      "metadata": {
        "id": "m7kTy86Mhrnr",
        "colab_type": "code",
        "outputId": "75868eda-0c7f-42fe-bd63-c75811526aad",
        "colab": {
          "base_uri": "https://localhost:8080/",
          "height": 292
        }
      },
      "cell_type": "code",
      "source": [
        "\n",
        "import nltk \n",
        "from sklearn.feature_extraction.text import TfidfVectorizer,CountVectorizer\n",
        "from nltk.stem.snowball import SnowballStemmer\n",
        "from nltk.stem.wordnet import WordNetLemmatizer\n",
        "from nltk.corpus import wordnet, stopwords\n",
        "import string \n",
        "from requests import get\n",
        "\n",
        "#Library for Collaborative filtering\n",
        "!pip install surprise\n",
        "from surprise import Reader,Dataset,SVD,evaluate\n",
        "import warnings;warnings.simplefilter('ignore')\n",
        "%matplotlib inline"
      ],
      "execution_count": 0,
      "outputs": [
        {
          "output_type": "stream",
          "text": [
            "Collecting surprise\n",
            "  Downloading https://files.pythonhosted.org/packages/61/de/e5cba8682201fcf9c3719a6fdda95693468ed061945493dea2dd37c5618b/surprise-0.1-py2.py3-none-any.whl\n",
            "Collecting scikit-surprise (from surprise)\n",
            "\u001b[?25l  Downloading https://files.pythonhosted.org/packages/4d/fc/cd4210b247d1dca421c25994740cbbf03c5e980e31881f10eaddf45fdab0/scikit-surprise-1.0.6.tar.gz (3.3MB)\n",
            "\u001b[K    100% |████████████████████████████████| 3.3MB 9.8MB/s \n",
            "\u001b[?25hRequirement already satisfied: joblib>=0.11 in /usr/local/lib/python3.6/dist-packages (from scikit-surprise->surprise) (0.13.2)\n",
            "Requirement already satisfied: numpy>=1.11.2 in /usr/local/lib/python3.6/dist-packages (from scikit-surprise->surprise) (1.14.6)\n",
            "Requirement already satisfied: scipy>=1.0.0 in /usr/local/lib/python3.6/dist-packages (from scikit-surprise->surprise) (1.1.0)\n",
            "Requirement already satisfied: six>=1.10.0 in /usr/local/lib/python3.6/dist-packages (from scikit-surprise->surprise) (1.11.0)\n",
            "Building wheels for collected packages: scikit-surprise\n",
            "  Building wheel for scikit-surprise (setup.py) ... \u001b[?25ldone\n",
            "\u001b[?25h  Stored in directory: /root/.cache/pip/wheels/ec/c0/55/3a28eab06b53c220015063ebbdb81213cd3dcbb72c088251ec\n",
            "Successfully built scikit-surprise\n",
            "Installing collected packages: scikit-surprise, surprise\n",
            "Successfully installed scikit-surprise-1.0.6 surprise-0.1\n"
          ],
          "name": "stdout"
        }
      ]
    },
    {
      "metadata": {
        "id": "w8eyWDGrhrl_",
        "colab_type": "code",
        "outputId": "2f75eb5c-5523-44f9-adfa-13c483aec4ea",
        "colab": {
          "base_uri": "https://localhost:8080/",
          "height": 102
        }
      },
      "cell_type": "code",
      "source": [
        "nltk.download('stopwords')\n",
        "nltk.download('wordnet')"
      ],
      "execution_count": 0,
      "outputs": [
        {
          "output_type": "stream",
          "text": [
            "[nltk_data] Downloading package stopwords to /root/nltk_data...\n",
            "[nltk_data]   Package stopwords is already up-to-date!\n",
            "[nltk_data] Downloading package wordnet to /root/nltk_data...\n",
            "[nltk_data]   Package wordnet is already up-to-date!\n"
          ],
          "name": "stdout"
        },
        {
          "output_type": "execute_result",
          "data": {
            "text/plain": [
              "True"
            ]
          },
          "metadata": {
            "tags": []
          },
          "execution_count": 4
        }
      ]
    },
    {
      "metadata": {
        "id": "GUjN2CzGhrh5",
        "colab_type": "code",
        "outputId": "b7d5c295-bd48-4404-d51f-7b4af5074336",
        "colab": {
          "base_uri": "https://localhost:8080/",
          "height": 746
        }
      },
      "cell_type": "code",
      "source": [
        "movies_metadata=pd.read_csv('movies_metadata.csv',error_bad_lines=False)\n",
        "movies_metadata.head()"
      ],
      "execution_count": 0,
      "outputs": [
        {
          "output_type": "stream",
          "text": [
            "b'Skipping line 2562: expected 24 fields, saw 27\\nSkipping line 3818: expected 24 fields, saw 29\\nSkipping line 7704: expected 24 fields, saw 35\\nSkipping line 8966: expected 24 fields, saw 31\\nSkipping line 11543: expected 24 fields, saw 27\\nSkipping line 12831: expected 24 fields, saw 25\\nSkipping line 16729: expected 24 fields, saw 40\\nSkipping line 19352: expected 24 fields, saw 33\\nSkipping line 20687: expected 24 fields, saw 25\\nSkipping line 21975: expected 24 fields, saw 28\\nSkipping line 26002: expected 24 fields, saw 38\\nSkipping line 27334: expected 24 fields, saw 27\\nSkipping line 28702: expected 24 fields, saw 36\\nSkipping line 32776: expected 24 fields, saw 27\\n'\n",
            "b'Skipping line 35530: expected 24 fields, saw 32\\nSkipping line 38289: expected 24 fields, saw 27\\nSkipping line 39698: expected 24 fields, saw 29\\nSkipping line 43901: expected 24 fields, saw 30\\nSkipping line 45361: expected 24 fields, saw 27\\nSkipping line 48203: expected 24 fields, saw 25\\nSkipping line 49612: expected 24 fields, saw 36\\nSkipping line 51034: expected 24 fields, saw 26\\nSkipping line 52476: expected 24 fields, saw 29\\nSkipping line 55408: expected 24 fields, saw 35\\nSkipping line 59748: expected 24 fields, saw 27\\nSkipping line 61170: expected 24 fields, saw 31\\nSkipping line 62622: expected 24 fields, saw 43\\n'\n",
            "b'Skipping line 65629: expected 24 fields, saw 30\\nSkipping line 67033: expected 24 fields, saw 27\\nSkipping line 68460: expected 24 fields, saw 33\\nSkipping line 71375: expected 24 fields, saw 25\\nSkipping line 72827: expected 24 fields, saw 29\\nSkipping line 74318: expected 24 fields, saw 26\\nSkipping line 75853: expected 24 fields, saw 31\\nSkipping line 77343: expected 24 fields, saw 28\\nSkipping line 78770: expected 24 fields, saw 31\\nSkipping line 80105: expected 24 fields, saw 28\\n'\n"
          ],
          "name": "stderr"
        },
        {
          "output_type": "execute_result",
          "data": {
            "text/html": [
              "<div>\n",
              "<style scoped>\n",
              "    .dataframe tbody tr th:only-of-type {\n",
              "        vertical-align: middle;\n",
              "    }\n",
              "\n",
              "    .dataframe tbody tr th {\n",
              "        vertical-align: top;\n",
              "    }\n",
              "\n",
              "    .dataframe thead th {\n",
              "        text-align: right;\n",
              "    }\n",
              "</style>\n",
              "<table border=\"1\" class=\"dataframe\">\n",
              "  <thead>\n",
              "    <tr style=\"text-align: right;\">\n",
              "      <th></th>\n",
              "      <th>adult</th>\n",
              "      <th>belongs_to_collection</th>\n",
              "      <th>budget</th>\n",
              "      <th>genres</th>\n",
              "      <th>homepage</th>\n",
              "      <th>id</th>\n",
              "      <th>imdb_id</th>\n",
              "      <th>original_language</th>\n",
              "      <th>original_title</th>\n",
              "      <th>overview</th>\n",
              "      <th>...</th>\n",
              "      <th>release_date</th>\n",
              "      <th>revenue</th>\n",
              "      <th>runtime</th>\n",
              "      <th>spoken_languages</th>\n",
              "      <th>status</th>\n",
              "      <th>tagline</th>\n",
              "      <th>title</th>\n",
              "      <th>video</th>\n",
              "      <th>vote_average</th>\n",
              "      <th>vote_count</th>\n",
              "    </tr>\n",
              "  </thead>\n",
              "  <tbody>\n",
              "    <tr>\n",
              "      <th>0</th>\n",
              "      <td>False</td>\n",
              "      <td>{'id': 10194, 'name': 'Toy Story Collection', ...</td>\n",
              "      <td>30000000</td>\n",
              "      <td>[{'id': 16, 'name': 'Animation'}, {'id': 35, '...</td>\n",
              "      <td>http://toystory.disney.com/toy-story</td>\n",
              "      <td>862</td>\n",
              "      <td>tt0114709</td>\n",
              "      <td>en</td>\n",
              "      <td>Toy Story</td>\n",
              "      <td>Led by Woody, Andy's toys live happily in his ...</td>\n",
              "      <td>...</td>\n",
              "      <td>1995-10-30</td>\n",
              "      <td>373554033</td>\n",
              "      <td>81.0</td>\n",
              "      <td>[{'iso_639_1': 'en', 'name': 'English'}]</td>\n",
              "      <td>Released</td>\n",
              "      <td>NaN</td>\n",
              "      <td>Toy Story</td>\n",
              "      <td>False</td>\n",
              "      <td>7.7</td>\n",
              "      <td>5415.0</td>\n",
              "    </tr>\n",
              "    <tr>\n",
              "      <th>1</th>\n",
              "      <td>False</td>\n",
              "      <td>NaN</td>\n",
              "      <td>65000000</td>\n",
              "      <td>[{'id': 12, 'name': 'Adventure'}, {'id': 14, '...</td>\n",
              "      <td>NaN</td>\n",
              "      <td>8844</td>\n",
              "      <td>tt0113497</td>\n",
              "      <td>en</td>\n",
              "      <td>Jumanji</td>\n",
              "      <td>When siblings Judy and Peter discover an encha...</td>\n",
              "      <td>...</td>\n",
              "      <td>1995-12-15</td>\n",
              "      <td>262797249</td>\n",
              "      <td>104.0</td>\n",
              "      <td>[{'iso_639_1': 'en', 'name': 'English'}, {'iso...</td>\n",
              "      <td>Released</td>\n",
              "      <td>Roll the dice and unleash the excitement!</td>\n",
              "      <td>Jumanji</td>\n",
              "      <td>False</td>\n",
              "      <td>6.9</td>\n",
              "      <td>2413.0</td>\n",
              "    </tr>\n",
              "    <tr>\n",
              "      <th>2</th>\n",
              "      <td>False</td>\n",
              "      <td>{'id': 119050, 'name': 'Grumpy Old Men Collect...</td>\n",
              "      <td>0</td>\n",
              "      <td>[{'id': 10749, 'name': 'Romance'}, {'id': 35, ...</td>\n",
              "      <td>NaN</td>\n",
              "      <td>15602</td>\n",
              "      <td>tt0113228</td>\n",
              "      <td>en</td>\n",
              "      <td>Grumpier Old Men</td>\n",
              "      <td>A family wedding reignites the ancient feud be...</td>\n",
              "      <td>...</td>\n",
              "      <td>1995-12-22</td>\n",
              "      <td>0</td>\n",
              "      <td>101.0</td>\n",
              "      <td>[{'iso_639_1': 'en', 'name': 'English'}]</td>\n",
              "      <td>Released</td>\n",
              "      <td>Still Yelling. Still Fighting. Still Ready for...</td>\n",
              "      <td>Grumpier Old Men</td>\n",
              "      <td>False</td>\n",
              "      <td>6.5</td>\n",
              "      <td>92.0</td>\n",
              "    </tr>\n",
              "    <tr>\n",
              "      <th>3</th>\n",
              "      <td>False</td>\n",
              "      <td>NaN</td>\n",
              "      <td>16000000</td>\n",
              "      <td>[{'id': 35, 'name': 'Comedy'}, {'id': 18, 'nam...</td>\n",
              "      <td>NaN</td>\n",
              "      <td>31357</td>\n",
              "      <td>tt0114885</td>\n",
              "      <td>en</td>\n",
              "      <td>Waiting to Exhale</td>\n",
              "      <td>Cheated on, mistreated and stepped on, the wom...</td>\n",
              "      <td>...</td>\n",
              "      <td>1995-12-22</td>\n",
              "      <td>81452156</td>\n",
              "      <td>127.0</td>\n",
              "      <td>[{'iso_639_1': 'en', 'name': 'English'}]</td>\n",
              "      <td>Released</td>\n",
              "      <td>Friends are the people who let you be yourself...</td>\n",
              "      <td>Waiting to Exhale</td>\n",
              "      <td>False</td>\n",
              "      <td>6.1</td>\n",
              "      <td>34.0</td>\n",
              "    </tr>\n",
              "    <tr>\n",
              "      <th>4</th>\n",
              "      <td>False</td>\n",
              "      <td>{'id': 96871, 'name': 'Father of the Bride Col...</td>\n",
              "      <td>0</td>\n",
              "      <td>[{'id': 35, 'name': 'Comedy'}]</td>\n",
              "      <td>NaN</td>\n",
              "      <td>11862</td>\n",
              "      <td>tt0113041</td>\n",
              "      <td>en</td>\n",
              "      <td>Father of the Bride Part II</td>\n",
              "      <td>Just when George Banks has recovered from his ...</td>\n",
              "      <td>...</td>\n",
              "      <td>1995-02-10</td>\n",
              "      <td>76578911</td>\n",
              "      <td>106.0</td>\n",
              "      <td>[{'iso_639_1': 'en', 'name': 'English'}]</td>\n",
              "      <td>Released</td>\n",
              "      <td>Just When His World Is Back To Normal... He's ...</td>\n",
              "      <td>Father of the Bride Part II</td>\n",
              "      <td>False</td>\n",
              "      <td>5.7</td>\n",
              "      <td>173.0</td>\n",
              "    </tr>\n",
              "  </tbody>\n",
              "</table>\n",
              "<p>5 rows × 24 columns</p>\n",
              "</div>"
            ],
            "text/plain": [
              "   adult                              belongs_to_collection    budget  \\\n",
              "0  False  {'id': 10194, 'name': 'Toy Story Collection', ...  30000000   \n",
              "1  False                                                NaN  65000000   \n",
              "2  False  {'id': 119050, 'name': 'Grumpy Old Men Collect...         0   \n",
              "3  False                                                NaN  16000000   \n",
              "4  False  {'id': 96871, 'name': 'Father of the Bride Col...         0   \n",
              "\n",
              "                                              genres  \\\n",
              "0  [{'id': 16, 'name': 'Animation'}, {'id': 35, '...   \n",
              "1  [{'id': 12, 'name': 'Adventure'}, {'id': 14, '...   \n",
              "2  [{'id': 10749, 'name': 'Romance'}, {'id': 35, ...   \n",
              "3  [{'id': 35, 'name': 'Comedy'}, {'id': 18, 'nam...   \n",
              "4                     [{'id': 35, 'name': 'Comedy'}]   \n",
              "\n",
              "                               homepage     id    imdb_id original_language  \\\n",
              "0  http://toystory.disney.com/toy-story    862  tt0114709                en   \n",
              "1                                   NaN   8844  tt0113497                en   \n",
              "2                                   NaN  15602  tt0113228                en   \n",
              "3                                   NaN  31357  tt0114885                en   \n",
              "4                                   NaN  11862  tt0113041                en   \n",
              "\n",
              "                original_title  \\\n",
              "0                    Toy Story   \n",
              "1                      Jumanji   \n",
              "2             Grumpier Old Men   \n",
              "3            Waiting to Exhale   \n",
              "4  Father of the Bride Part II   \n",
              "\n",
              "                                            overview    ...     release_date  \\\n",
              "0  Led by Woody, Andy's toys live happily in his ...    ...       1995-10-30   \n",
              "1  When siblings Judy and Peter discover an encha...    ...       1995-12-15   \n",
              "2  A family wedding reignites the ancient feud be...    ...       1995-12-22   \n",
              "3  Cheated on, mistreated and stepped on, the wom...    ...       1995-12-22   \n",
              "4  Just when George Banks has recovered from his ...    ...       1995-02-10   \n",
              "\n",
              "     revenue runtime                                   spoken_languages  \\\n",
              "0  373554033    81.0           [{'iso_639_1': 'en', 'name': 'English'}]   \n",
              "1  262797249   104.0  [{'iso_639_1': 'en', 'name': 'English'}, {'iso...   \n",
              "2          0   101.0           [{'iso_639_1': 'en', 'name': 'English'}]   \n",
              "3   81452156   127.0           [{'iso_639_1': 'en', 'name': 'English'}]   \n",
              "4   76578911   106.0           [{'iso_639_1': 'en', 'name': 'English'}]   \n",
              "\n",
              "     status                                            tagline  \\\n",
              "0  Released                                                NaN   \n",
              "1  Released          Roll the dice and unleash the excitement!   \n",
              "2  Released  Still Yelling. Still Fighting. Still Ready for...   \n",
              "3  Released  Friends are the people who let you be yourself...   \n",
              "4  Released  Just When His World Is Back To Normal... He's ...   \n",
              "\n",
              "                         title  video vote_average vote_count  \n",
              "0                    Toy Story  False          7.7     5415.0  \n",
              "1                      Jumanji  False          6.9     2413.0  \n",
              "2             Grumpier Old Men  False          6.5       92.0  \n",
              "3            Waiting to Exhale  False          6.1       34.0  \n",
              "4  Father of the Bride Part II  False          5.7      173.0  \n",
              "\n",
              "[5 rows x 24 columns]"
            ]
          },
          "metadata": {
            "tags": []
          },
          "execution_count": 9
        }
      ]
    },
    {
      "metadata": {
        "id": "_RbDpbyAhrf4",
        "colab_type": "code",
        "outputId": "be106ba1-4381-45b6-b5f2-f3d20322fd12",
        "colab": {
          "base_uri": "https://localhost:8080/",
          "height": 136
        }
      },
      "cell_type": "code",
      "source": [
        "movies_metadata.columns"
      ],
      "execution_count": 0,
      "outputs": [
        {
          "output_type": "execute_result",
          "data": {
            "text/plain": [
              "Index(['adult', 'belongs_to_collection', 'budget', 'genres', 'homepage', 'id',\n",
              "       'imdb_id', 'original_language', 'original_title', 'overview',\n",
              "       'popularity', 'poster_path', 'production_companies',\n",
              "       'production_countries', 'release_date', 'revenue', 'runtime',\n",
              "       'spoken_languages', 'status', 'tagline', 'title', 'video',\n",
              "       'vote_average', 'vote_count'],\n",
              "      dtype='object')"
            ]
          },
          "metadata": {
            "tags": []
          },
          "execution_count": 10
        }
      ]
    },
    {
      "metadata": {
        "id": "irH8BOYmhrdt",
        "colab_type": "code",
        "outputId": "fb53a827-9da0-4c9c-ab7d-354fae3964d3",
        "colab": {
          "base_uri": "https://localhost:8080/",
          "height": 510
        }
      },
      "cell_type": "code",
      "source": [
        "movies_metadata.info()"
      ],
      "execution_count": 0,
      "outputs": [
        {
          "output_type": "stream",
          "text": [
            "<class 'pandas.core.frame.DataFrame'>\n",
            "RangeIndex: 85814 entries, 0 to 85813\n",
            "Data columns (total 24 columns):\n",
            "adult                    85814 non-null object\n",
            "belongs_to_collection    8152 non-null object\n",
            "budget                   85814 non-null object\n",
            "genres                   85814 non-null object\n",
            "homepage                 15240 non-null object\n",
            "id                       85813 non-null object\n",
            "imdb_id                  85780 non-null object\n",
            "original_language        85792 non-null object\n",
            "original_title           85814 non-null object\n",
            "overview                 83927 non-null object\n",
            "popularity               85803 non-null object\n",
            "poster_path              85061 non-null object\n",
            "production_companies     85806 non-null object\n",
            "production_countries     85806 non-null object\n",
            "release_date             85643 non-null object\n",
            "revenue                  85800 non-null object\n",
            "runtime                  85288 non-null object\n",
            "spoken_languages         85794 non-null object\n",
            "status                   85637 non-null object\n",
            "tagline                  36992 non-null object\n",
            "title                    85793 non-null object\n",
            "video                    85792 non-null object\n",
            "vote_average             85789 non-null float64\n",
            "vote_count               85788 non-null float64\n",
            "dtypes: float64(2), object(22)\n",
            "memory usage: 15.7+ MB\n"
          ],
          "name": "stdout"
        }
      ]
    },
    {
      "metadata": {
        "id": "o28-6jLIn0WX",
        "colab_type": "text"
      },
      "cell_type": "markdown",
      "source": [
        "# Lets explore the movies metadata"
      ]
    },
    {
      "metadata": {
        "id": "Dlg31wpynnTk",
        "colab_type": "code",
        "outputId": "c1a7f349-4867-416e-8b87-f764add9bacd",
        "colab": {
          "base_uri": "https://localhost:8080/",
          "height": 648
        }
      },
      "cell_type": "code",
      "source": [
        "fig,ax=plt.subplots()\n",
        "fig.set_size_inches(12,9)\n",
        "sns.heatmap(movies_metadata.isnull(),yticklabels=False,cmap='viridis',ax=ax)"
      ],
      "execution_count": 0,
      "outputs": [
        {
          "output_type": "execute_result",
          "data": {
            "text/plain": [
              "<matplotlib.axes._subplots.AxesSubplot at 0x7fd030b86b70>"
            ]
          },
          "metadata": {
            "tags": []
          },
          "execution_count": 12
        },
        {
          "output_type": "display_data",
          "data": {
            "image/png": "[encoded data removed]",
            "text/plain": [
              "<Figure size 864x648 with 2 Axes>"
            ]
          },
          "metadata": {
            "tags": []
          }
        }
      ]
    },
    {
      "metadata": {
        "id": "2wE2j2YHnnR0",
        "colab_type": "code",
        "colab": {}
      },
      "cell_type": "code",
      "source": [
        "#From the graph we can easily visualize how much daa is missing for our dataset ,We have lots of data is missing in tagline ,belongs to collection"
      ],
      "execution_count": 0,
      "outputs": []
    },
    {
      "metadata": {
        "id": "bxlH7gLGnnNt",
        "colab_type": "code",
        "outputId": "924be6a6-fc09-45bc-d68a-9c36a2cba7c2",
        "colab": {
          "base_uri": "https://localhost:8080/",
          "height": 204
        }
      },
      "cell_type": "code",
      "source": [
        "#Reading the movie from our small movies data set\n",
        "movies_small=pd.read_csv('movies.csv')\n",
        "movies_small.head()"
      ],
      "execution_count": 0,
      "outputs": [
        {
          "output_type": "execute_result",
          "data": {
            "text/html": [
              "<div>\n",
              "<style scoped>\n",
              "    .dataframe tbody tr th:only-of-type {\n",
              "        vertical-align: middle;\n",
              "    }\n",
              "\n",
              "    .dataframe tbody tr th {\n",
              "        vertical-align: top;\n",
              "    }\n",
              "\n",
              "    .dataframe thead th {\n",
              "        text-align: right;\n",
              "    }\n",
              "</style>\n",
              "<table border=\"1\" class=\"dataframe\">\n",
              "  <thead>\n",
              "    <tr style=\"text-align: right;\">\n",
              "      <th></th>\n",
              "      <th>movieId</th>\n",
              "      <th>title</th>\n",
              "      <th>genres</th>\n",
              "    </tr>\n",
              "  </thead>\n",
              "  <tbody>\n",
              "    <tr>\n",
              "      <th>0</th>\n",
              "      <td>1</td>\n",
              "      <td>Toy Story (1995)</td>\n",
              "      <td>Adventure|Animation|Children|Comedy|Fantasy</td>\n",
              "    </tr>\n",
              "    <tr>\n",
              "      <th>1</th>\n",
              "      <td>2</td>\n",
              "      <td>Jumanji (1995)</td>\n",
              "      <td>Adventure|Children|Fantasy</td>\n",
              "    </tr>\n",
              "    <tr>\n",
              "      <th>2</th>\n",
              "      <td>3</td>\n",
              "      <td>Grumpier Old Men (1995)</td>\n",
              "      <td>Comedy|Romance</td>\n",
              "    </tr>\n",
              "    <tr>\n",
              "      <th>3</th>\n",
              "      <td>4</td>\n",
              "      <td>Waiting to Exhale (1995)</td>\n",
              "      <td>Comedy|Drama|Romance</td>\n",
              "    </tr>\n",
              "    <tr>\n",
              "      <th>4</th>\n",
              "      <td>5</td>\n",
              "      <td>Father of the Bride Part II (1995)</td>\n",
              "      <td>Comedy</td>\n",
              "    </tr>\n",
              "  </tbody>\n",
              "</table>\n",
              "</div>"
            ],
            "text/plain": [
              "   movieId                               title  \\\n",
              "0        1                    Toy Story (1995)   \n",
              "1        2                      Jumanji (1995)   \n",
              "2        3             Grumpier Old Men (1995)   \n",
              "3        4            Waiting to Exhale (1995)   \n",
              "4        5  Father of the Bride Part II (1995)   \n",
              "\n",
              "                                        genres  \n",
              "0  Adventure|Animation|Children|Comedy|Fantasy  \n",
              "1                   Adventure|Children|Fantasy  \n",
              "2                               Comedy|Romance  \n",
              "3                         Comedy|Drama|Romance  \n",
              "4                                       Comedy  "
            ]
          },
          "metadata": {
            "tags": []
          },
          "execution_count": 14
        }
      ]
    },
    {
      "metadata": {
        "id": "CU6jcXEDnnJJ",
        "colab_type": "code",
        "outputId": "48935816-ba29-4dfb-e572-3bff4e1ff2a3",
        "colab": {
          "base_uri": "https://localhost:8080/",
          "height": 153
        }
      },
      "cell_type": "code",
      "source": [
        "movies_small.info()"
      ],
      "execution_count": 0,
      "outputs": [
        {
          "output_type": "stream",
          "text": [
            "<class 'pandas.core.frame.DataFrame'>\n",
            "RangeIndex: 9125 entries, 0 to 9124\n",
            "Data columns (total 3 columns):\n",
            "movieId    9125 non-null int64\n",
            "title      9125 non-null object\n",
            "genres     9125 non-null object\n",
            "dtypes: int64(1), object(2)\n",
            "memory usage: 213.9+ KB\n"
          ],
          "name": "stdout"
        }
      ]
    },
    {
      "metadata": {
        "id": "lHnh1LewnnGf",
        "colab_type": "code",
        "outputId": "2aa6612f-c68b-4098-8f9d-8848b25d5760",
        "colab": {
          "base_uri": "https://localhost:8080/",
          "height": 85
        }
      },
      "cell_type": "code",
      "source": [
        "#Cheking null values in dataset\n",
        "movies_small.isnull().sum()"
      ],
      "execution_count": 0,
      "outputs": [
        {
          "output_type": "execute_result",
          "data": {
            "text/plain": [
              "movieId    0\n",
              "title      0\n",
              "genres     0\n",
              "dtype: int64"
            ]
          },
          "metadata": {
            "tags": []
          },
          "execution_count": 16
        }
      ]
    },
    {
      "metadata": {
        "id": "rvYXRfISnnDv",
        "colab_type": "code",
        "outputId": "1ff35abe-a58b-44b5-b95b-01930ed76eb8",
        "colab": {
          "base_uri": "https://localhost:8080/",
          "height": 621
        }
      },
      "cell_type": "code",
      "source": [
        "# Creating a plot for Genre Distribution\n",
        "df1 = movies_small['genres'].apply(lambda genrelist : str(genrelist).split(\"|\"))\n",
        "df1 = pd.Series(df1).apply(frozenset).to_frame(name='givengenres')\n",
        "for givengenres in frozenset.union(*df1.givengenres):\n",
        "    df1[givengenres] = df1.apply(lambda _: int(givengenres in _.givengenres), axis=1)\n",
        "df1.drop('givengenres',axis=1,inplace=True)\n",
        "df1['movieId']=movies_small['movieId']\n",
        "df1 = pd.merge(movies_small,df1,on='movieId')\n",
        "df1.head()\n",
        "genre_columns= ['Film-Noir',\n",
        "       'Romance', 'Western', 'Documentary', 'Thriller', 'Action', 'Musical',\n",
        "       'War', 'Drama', 'IMAX', 'Crime', 'Children', 'Adventure', 'Horror',\n",
        "       'Fantasy', 'Animation', 'Comedy', 'Mystery', '(no genres listed)',\n",
        "       'Sci-Fi']\n",
        "df1[genre_columns].sum().sort_values(ascending=False).plot(kind='bar',figsize=(12,9))"
      ],
      "execution_count": 0,
      "outputs": [
        {
          "output_type": "execute_result",
          "data": {
            "text/plain": [
              "<matplotlib.axes._subplots.AxesSubplot at 0x7fd02d4ab3c8>"
            ]
          },
          "metadata": {
            "tags": []
          },
          "execution_count": 17
        },
        {
          "output_type": "display_data",
          "data": {
            "image/png": "[encoded data removed]",
            "text/plain": [
              "<Figure size 864x648 with 1 Axes>"
            ]
          },
          "metadata": {
            "tags": []
          }
        }
      ]
    },
    {
      "metadata": {
        "id": "hC9AVS8Tq-PP",
        "colab_type": "text"
      },
      "cell_type": "markdown",
      "source": [
        "We can see from the above graph that majority of the movies are of Drama , comedy and thriller"
      ]
    },
    {
      "metadata": {
        "id": "On9z-hahrQAX",
        "colab_type": "text"
      },
      "cell_type": "markdown",
      "source": [
        "\n",
        "### Plotting the graph to see the distribution of votes across "
      ]
    },
    {
      "metadata": {
        "id": "eK3Gz14Fq8qv",
        "colab_type": "code",
        "colab": {}
      },
      "cell_type": "code",
      "source": [
        "\n",
        "#plt.figure(figsize=\n",
        "           "
      ],
      "execution_count": 0,
      "outputs": []
    },
    {
      "metadata": {
        "id": "x7vr-Sw2sRPp",
        "colab_type": "text"
      },
      "cell_type": "markdown",
      "source": [
        "most of the vote counts is between 0-5000"
      ]
    },
    {
      "metadata": {
        "id": "qbXzvkGhq8o-",
        "colab_type": "code",
        "outputId": "53ada5e9-f3e7-4ef9-ca03-1f7438123c68",
        "colab": {
          "base_uri": "https://localhost:8080/",
          "height": 388
        }
      },
      "cell_type": "code",
      "source": [
        "# Look into the distribution of vote average for out movies dataset\n",
        "plt.figure(figsize=(12,6))\n",
        "movies_metadata['vote_average'].plot(kind='hist')\n",
        "plt.xlabel('Vote average')\n",
        "plt.ylabel('Number of movies')\n",
        "plt.show()\n"
      ],
      "execution_count": 0,
      "outputs": [
        {
          "output_type": "display_data",
          "data": {
            "image/png": "[encoded data removed]",
            "text/plain": [
              "<Figure size 864x432 with 1 Axes>"
            ]
          },
          "metadata": {
            "tags": []
          }
        }
      ]
    },
    {
      "metadata": {
        "id": "5ME4Y08KtK_H",
        "colab_type": "text"
      },
      "cell_type": "markdown",
      "source": [
        "This is IMDB rating here we can visualize that most of the vote is between 5 to 7"
      ]
    },
    {
      "metadata": {
        "id": "NwFYjjIXq8m3",
        "colab_type": "code",
        "outputId": "3cd0043e-cc8f-493f-aa32-88150b66a587",
        "colab": {
          "base_uri": "https://localhost:8080/",
          "height": 458
        }
      },
      "cell_type": "code",
      "source": [
        "#Let's create a join plot to see the voete counts and vote average distribution\n",
        "sns.jointplot(x='vote_average',y='vote_count',data=movies_metadata,alpha=0.7)"
      ],
      "execution_count": 0,
      "outputs": [
        {
          "output_type": "execute_result",
          "data": {
            "text/plain": [
              "<seaborn.axisgrid.JointGrid at 0x7fd02d5e77b8>"
            ]
          },
          "metadata": {
            "tags": []
          },
          "execution_count": 19
        },
        {
          "output_type": "display_data",
          "data": {
            "image/png": "[encoded data removed]",
            "text/plain": [
              "<Figure size 432x432 with 3 Axes>"
            ]
          },
          "metadata": {
            "tags": []
          }
        }
      ]
    },
    {
      "metadata": {
        "id": "wgP3nyCKuFHE",
        "colab_type": "text"
      },
      "cell_type": "markdown",
      "source": [
        "From here we can refer one thing that movie whcih have higher rating has higher vote count means more people watch and rate popular movies"
      ]
    },
    {
      "metadata": {
        "id": "sZZmKYmAq8jD",
        "colab_type": "code",
        "outputId": "1c2151f6-9783-4d18-be4d-aa903d38fb60",
        "colab": {
          "base_uri": "https://localhost:8080/",
          "height": 204
        }
      },
      "cell_type": "code",
      "source": [
        "links=pd.read_csv('links.csv')\n",
        "links.head()"
      ],
      "execution_count": 0,
      "outputs": [
        {
          "output_type": "execute_result",
          "data": {
            "text/html": [
              "<div>\n",
              "<style scoped>\n",
              "    .dataframe tbody tr th:only-of-type {\n",
              "        vertical-align: middle;\n",
              "    }\n",
              "\n",
              "    .dataframe tbody tr th {\n",
              "        vertical-align: top;\n",
              "    }\n",
              "\n",
              "    .dataframe thead th {\n",
              "        text-align: right;\n",
              "    }\n",
              "</style>\n",
              "<table border=\"1\" class=\"dataframe\">\n",
              "  <thead>\n",
              "    <tr style=\"text-align: right;\">\n",
              "      <th></th>\n",
              "      <th>movieId</th>\n",
              "      <th>imdbId</th>\n",
              "      <th>tmdbId</th>\n",
              "    </tr>\n",
              "  </thead>\n",
              "  <tbody>\n",
              "    <tr>\n",
              "      <th>0</th>\n",
              "      <td>1</td>\n",
              "      <td>114709</td>\n",
              "      <td>862.0</td>\n",
              "    </tr>\n",
              "    <tr>\n",
              "      <th>1</th>\n",
              "      <td>2</td>\n",
              "      <td>113497</td>\n",
              "      <td>8844.0</td>\n",
              "    </tr>\n",
              "    <tr>\n",
              "      <th>2</th>\n",
              "      <td>3</td>\n",
              "      <td>113228</td>\n",
              "      <td>15602.0</td>\n",
              "    </tr>\n",
              "    <tr>\n",
              "      <th>3</th>\n",
              "      <td>4</td>\n",
              "      <td>114885</td>\n",
              "      <td>31357.0</td>\n",
              "    </tr>\n",
              "    <tr>\n",
              "      <th>4</th>\n",
              "      <td>5</td>\n",
              "      <td>113041</td>\n",
              "      <td>11862.0</td>\n",
              "    </tr>\n",
              "  </tbody>\n",
              "</table>\n",
              "</div>"
            ],
            "text/plain": [
              "   movieId  imdbId   tmdbId\n",
              "0        1  114709    862.0\n",
              "1        2  113497   8844.0\n",
              "2        3  113228  15602.0\n",
              "3        4  114885  31357.0\n",
              "4        5  113041  11862.0"
            ]
          },
          "metadata": {
            "tags": []
          },
          "execution_count": 20
        }
      ]
    },
    {
      "metadata": {
        "id": "YzgIT49Gq8gu",
        "colab_type": "code",
        "outputId": "21a87a39-dd1f-4111-957f-b22084760358",
        "colab": {
          "base_uri": "https://localhost:8080/",
          "height": 153
        }
      },
      "cell_type": "code",
      "source": [
        "links.info()"
      ],
      "execution_count": 0,
      "outputs": [
        {
          "output_type": "stream",
          "text": [
            "<class 'pandas.core.frame.DataFrame'>\n",
            "RangeIndex: 9125 entries, 0 to 9124\n",
            "Data columns (total 3 columns):\n",
            "movieId    9125 non-null int64\n",
            "imdbId     9125 non-null int64\n",
            "tmdbId     9112 non-null float64\n",
            "dtypes: float64(1), int64(2)\n",
            "memory usage: 213.9 KB\n"
          ],
          "name": "stdout"
        }
      ]
    },
    {
      "metadata": {
        "id": "ustEPPwVq8eG",
        "colab_type": "code",
        "outputId": "f8faaf8a-af00-4a70-865b-978efda994f2",
        "colab": {
          "base_uri": "https://localhost:8080/",
          "height": 85
        }
      },
      "cell_type": "code",
      "source": [
        "#Checking Null values\n",
        "links.isnull().sum()"
      ],
      "execution_count": 0,
      "outputs": [
        {
          "output_type": "execute_result",
          "data": {
            "text/plain": [
              "movieId     0\n",
              "imdbId      0\n",
              "tmdbId     13\n",
              "dtype: int64"
            ]
          },
          "metadata": {
            "tags": []
          },
          "execution_count": 22
        }
      ]
    },
    {
      "metadata": {
        "id": "WsnwiLWIq8cZ",
        "colab_type": "code",
        "outputId": "c3e67fbe-1646-4d13-8ca5-6b597d924a87",
        "colab": {
          "base_uri": "https://localhost:8080/",
          "height": 34
        }
      },
      "cell_type": "code",
      "source": [
        "movies_metadata.id.isnull().sum()"
      ],
      "execution_count": 0,
      "outputs": [
        {
          "output_type": "execute_result",
          "data": {
            "text/plain": [
              "1"
            ]
          },
          "metadata": {
            "tags": []
          },
          "execution_count": 23
        }
      ]
    },
    {
      "metadata": {
        "id": "sdu0VQQMq8ai",
        "colab_type": "code",
        "outputId": "fa1c938b-971a-42ca-ce7e-ff0d909821ff",
        "colab": {
          "base_uri": "https://localhost:8080/",
          "height": 34
        }
      },
      "cell_type": "code",
      "source": [
        "links.tmdbId.isnull().sum()"
      ],
      "execution_count": 0,
      "outputs": [
        {
          "output_type": "execute_result",
          "data": {
            "text/plain": [
              "13"
            ]
          },
          "metadata": {
            "tags": []
          },
          "execution_count": 24
        }
      ]
    },
    {
      "metadata": {
        "id": "95U3zcFmwFe3",
        "colab_type": "code",
        "colab": {}
      },
      "cell_type": "code",
      "source": [
        "#Since we are using movies small dataset, we will only keep values in movies_metadata for movies in movies_small\n",
        "movies_metadata = movies_metadata[movies_metadata.id.isin(links['tmdbId'].astype(str).apply(lambda x:x[:-2]).tolist())]"
      ],
      "execution_count": 0,
      "outputs": []
    },
    {
      "metadata": {
        "id": "YC6Vvf54q8Yb",
        "colab_type": "code",
        "outputId": "df2e8c29-43da-43c5-ce62-807e9678c1be",
        "colab": {
          "base_uri": "https://localhost:8080/",
          "height": 605
        }
      },
      "cell_type": "code",
      "source": [
        "#Lets look at the null values after we have created this smaller version of movies_metadata\n",
        "fig, ax = plt.subplots()\n",
        "# the size of A4 paper\n",
        "fig.set_size_inches(11.7, 8.27)\n",
        "sns.heatmap(movies_metadata.isnull(),yticklabels=False,cbar=False,cmap='viridis',ax=ax)"
      ],
      "execution_count": 0,
      "outputs": [
        {
          "output_type": "execute_result",
          "data": {
            "text/plain": [
              "<matplotlib.axes._subplots.AxesSubplot at 0x7fd02d275be0>"
            ]
          },
          "metadata": {
            "tags": []
          },
          "execution_count": 26
        },
        {
          "output_type": "display_data",
          "data": {
            "image/png": "[encoded data removed]",
            "text/plain": [
              "<Figure size 842.4x595.44 with 1 Axes>"
            ]
          },
          "metadata": {
            "tags": []
          }
        }
      ]
    },
    {
      "metadata": {
        "id": "KK_u1v_Yq8UV",
        "colab_type": "code",
        "colab": {}
      },
      "cell_type": "code",
      "source": [
        "movies_metadata['genres'] = movies_metadata['genres'].fillna('[]').apply(literal_eval).apply(lambda x: [i['name'] for i in x] if isinstance(x, list) else [])"
      ],
      "execution_count": 0,
      "outputs": []
    },
    {
      "metadata": {
        "id": "TU9vLDfrwnYX",
        "colab_type": "text"
      },
      "cell_type": "markdown",
      "source": [
        "We also need to add movie id to our movies metadata, we can do it through links.csv"
      ]
    },
    {
      "metadata": {
        "id": "oo4Bj6J0wjXC",
        "colab_type": "code",
        "colab": {}
      },
      "cell_type": "code",
      "source": [
        "def convert_int(x):\n",
        "    try:\n",
        "        return int(x) \n",
        "    except:\n",
        "        return 0"
      ],
      "execution_count": 0,
      "outputs": []
    },
    {
      "metadata": {
        "id": "qtGzCZVJwjUa",
        "colab_type": "code",
        "colab": {}
      },
      "cell_type": "code",
      "source": [
        "links['tmdbId'] = links['tmdbId'].apply(convert_int)"
      ],
      "execution_count": 0,
      "outputs": []
    },
    {
      "metadata": {
        "id": "Wsw5nO_uwjRj",
        "colab_type": "code",
        "colab": {}
      },
      "cell_type": "code",
      "source": [
        "movies_metadata['id'] = movies_metadata['id'].apply(convert_int)"
      ],
      "execution_count": 0,
      "outputs": []
    },
    {
      "metadata": {
        "id": "_yG-zORmwjO0",
        "colab_type": "code",
        "colab": {}
      },
      "cell_type": "code",
      "source": [
        "def return_movieId(tmdbId):\n",
        "    return links[links['tmdbId']==tmdbId]['movieId'].iloc[0]"
      ],
      "execution_count": 0,
      "outputs": []
    },
    {
      "metadata": {
        "id": "ZjBUV3OmwjMX",
        "colab_type": "code",
        "outputId": "172de7ad-24fd-4170-a33a-f25ee686aaa3",
        "colab": {
          "base_uri": "https://localhost:8080/",
          "height": 695
        }
      },
      "cell_type": "code",
      "source": [
        "#Get movie Id to the movies_metadata\n",
        "movies_metadata['movieId'] = movies_metadata['id'].apply(return_movieId)\n",
        "movies_metadata.head()"
      ],
      "execution_count": 0,
      "outputs": [
        {
          "output_type": "execute_result",
          "data": {
            "text/html": [
              "<div>\n",
              "<style scoped>\n",
              "    .dataframe tbody tr th:only-of-type {\n",
              "        vertical-align: middle;\n",
              "    }\n",
              "\n",
              "    .dataframe tbody tr th {\n",
              "        vertical-align: top;\n",
              "    }\n",
              "\n",
              "    .dataframe thead th {\n",
              "        text-align: right;\n",
              "    }\n",
              "</style>\n",
              "<table border=\"1\" class=\"dataframe\">\n",
              "  <thead>\n",
              "    <tr style=\"text-align: right;\">\n",
              "      <th></th>\n",
              "      <th>adult</th>\n",
              "      <th>belongs_to_collection</th>\n",
              "      <th>budget</th>\n",
              "      <th>genres</th>\n",
              "      <th>homepage</th>\n",
              "      <th>id</th>\n",
              "      <th>imdb_id</th>\n",
              "      <th>original_language</th>\n",
              "      <th>original_title</th>\n",
              "      <th>overview</th>\n",
              "      <th>...</th>\n",
              "      <th>revenue</th>\n",
              "      <th>runtime</th>\n",
              "      <th>spoken_languages</th>\n",
              "      <th>status</th>\n",
              "      <th>tagline</th>\n",
              "      <th>title</th>\n",
              "      <th>video</th>\n",
              "      <th>vote_average</th>\n",
              "      <th>vote_count</th>\n",
              "      <th>movieId</th>\n",
              "    </tr>\n",
              "  </thead>\n",
              "  <tbody>\n",
              "    <tr>\n",
              "      <th>0</th>\n",
              "      <td>False</td>\n",
              "      <td>{'id': 10194, 'name': 'Toy Story Collection', ...</td>\n",
              "      <td>30000000</td>\n",
              "      <td>[Animation, Comedy, Family]</td>\n",
              "      <td>http://toystory.disney.com/toy-story</td>\n",
              "      <td>862</td>\n",
              "      <td>tt0114709</td>\n",
              "      <td>en</td>\n",
              "      <td>Toy Story</td>\n",
              "      <td>Led by Woody, Andy's toys live happily in his ...</td>\n",
              "      <td>...</td>\n",
              "      <td>373554033</td>\n",
              "      <td>81.0</td>\n",
              "      <td>[{'iso_639_1': 'en', 'name': 'English'}]</td>\n",
              "      <td>Released</td>\n",
              "      <td>NaN</td>\n",
              "      <td>Toy Story</td>\n",
              "      <td>False</td>\n",
              "      <td>7.7</td>\n",
              "      <td>5415.0</td>\n",
              "      <td>1</td>\n",
              "    </tr>\n",
              "    <tr>\n",
              "      <th>1</th>\n",
              "      <td>False</td>\n",
              "      <td>NaN</td>\n",
              "      <td>65000000</td>\n",
              "      <td>[Adventure, Fantasy, Family]</td>\n",
              "      <td>NaN</td>\n",
              "      <td>8844</td>\n",
              "      <td>tt0113497</td>\n",
              "      <td>en</td>\n",
              "      <td>Jumanji</td>\n",
              "      <td>When siblings Judy and Peter discover an encha...</td>\n",
              "      <td>...</td>\n",
              "      <td>262797249</td>\n",
              "      <td>104.0</td>\n",
              "      <td>[{'iso_639_1': 'en', 'name': 'English'}, {'iso...</td>\n",
              "      <td>Released</td>\n",
              "      <td>Roll the dice and unleash the excitement!</td>\n",
              "      <td>Jumanji</td>\n",
              "      <td>False</td>\n",
              "      <td>6.9</td>\n",
              "      <td>2413.0</td>\n",
              "      <td>2</td>\n",
              "    </tr>\n",
              "    <tr>\n",
              "      <th>2</th>\n",
              "      <td>False</td>\n",
              "      <td>{'id': 119050, 'name': 'Grumpy Old Men Collect...</td>\n",
              "      <td>0</td>\n",
              "      <td>[Romance, Comedy]</td>\n",
              "      <td>NaN</td>\n",
              "      <td>15602</td>\n",
              "      <td>tt0113228</td>\n",
              "      <td>en</td>\n",
              "      <td>Grumpier Old Men</td>\n",
              "      <td>A family wedding reignites the ancient feud be...</td>\n",
              "      <td>...</td>\n",
              "      <td>0</td>\n",
              "      <td>101.0</td>\n",
              "      <td>[{'iso_639_1': 'en', 'name': 'English'}]</td>\n",
              "      <td>Released</td>\n",
              "      <td>Still Yelling. Still Fighting. Still Ready for...</td>\n",
              "      <td>Grumpier Old Men</td>\n",
              "      <td>False</td>\n",
              "      <td>6.5</td>\n",
              "      <td>92.0</td>\n",
              "      <td>3</td>\n",
              "    </tr>\n",
              "    <tr>\n",
              "      <th>3</th>\n",
              "      <td>False</td>\n",
              "      <td>NaN</td>\n",
              "      <td>16000000</td>\n",
              "      <td>[Comedy, Drama, Romance]</td>\n",
              "      <td>NaN</td>\n",
              "      <td>31357</td>\n",
              "      <td>tt0114885</td>\n",
              "      <td>en</td>\n",
              "      <td>Waiting to Exhale</td>\n",
              "      <td>Cheated on, mistreated and stepped on, the wom...</td>\n",
              "      <td>...</td>\n",
              "      <td>81452156</td>\n",
              "      <td>127.0</td>\n",
              "      <td>[{'iso_639_1': 'en', 'name': 'English'}]</td>\n",
              "      <td>Released</td>\n",
              "      <td>Friends are the people who let you be yourself...</td>\n",
              "      <td>Waiting to Exhale</td>\n",
              "      <td>False</td>\n",
              "      <td>6.1</td>\n",
              "      <td>34.0</td>\n",
              "      <td>4</td>\n",
              "    </tr>\n",
              "    <tr>\n",
              "      <th>4</th>\n",
              "      <td>False</td>\n",
              "      <td>{'id': 96871, 'name': 'Father of the Bride Col...</td>\n",
              "      <td>0</td>\n",
              "      <td>[Comedy]</td>\n",
              "      <td>NaN</td>\n",
              "      <td>11862</td>\n",
              "      <td>tt0113041</td>\n",
              "      <td>en</td>\n",
              "      <td>Father of the Bride Part II</td>\n",
              "      <td>Just when George Banks has recovered from his ...</td>\n",
              "      <td>...</td>\n",
              "      <td>76578911</td>\n",
              "      <td>106.0</td>\n",
              "      <td>[{'iso_639_1': 'en', 'name': 'English'}]</td>\n",
              "      <td>Released</td>\n",
              "      <td>Just When His World Is Back To Normal... He's ...</td>\n",
              "      <td>Father of the Bride Part II</td>\n",
              "      <td>False</td>\n",
              "      <td>5.7</td>\n",
              "      <td>173.0</td>\n",
              "      <td>5</td>\n",
              "    </tr>\n",
              "  </tbody>\n",
              "</table>\n",
              "<p>5 rows × 25 columns</p>\n",
              "</div>"
            ],
            "text/plain": [
              "   adult                              belongs_to_collection    budget  \\\n",
              "0  False  {'id': 10194, 'name': 'Toy Story Collection', ...  30000000   \n",
              "1  False                                                NaN  65000000   \n",
              "2  False  {'id': 119050, 'name': 'Grumpy Old Men Collect...         0   \n",
              "3  False                                                NaN  16000000   \n",
              "4  False  {'id': 96871, 'name': 'Father of the Bride Col...         0   \n",
              "\n",
              "                         genres                              homepage     id  \\\n",
              "0   [Animation, Comedy, Family]  http://toystory.disney.com/toy-story    862   \n",
              "1  [Adventure, Fantasy, Family]                                   NaN   8844   \n",
              "2             [Romance, Comedy]                                   NaN  15602   \n",
              "3      [Comedy, Drama, Romance]                                   NaN  31357   \n",
              "4                      [Comedy]                                   NaN  11862   \n",
              "\n",
              "     imdb_id original_language               original_title  \\\n",
              "0  tt0114709                en                    Toy Story   \n",
              "1  tt0113497                en                      Jumanji   \n",
              "2  tt0113228                en             Grumpier Old Men   \n",
              "3  tt0114885                en            Waiting to Exhale   \n",
              "4  tt0113041                en  Father of the Bride Part II   \n",
              "\n",
              "                                            overview   ...      revenue  \\\n",
              "0  Led by Woody, Andy's toys live happily in his ...   ...    373554033   \n",
              "1  When siblings Judy and Peter discover an encha...   ...    262797249   \n",
              "2  A family wedding reignites the ancient feud be...   ...            0   \n",
              "3  Cheated on, mistreated and stepped on, the wom...   ...     81452156   \n",
              "4  Just when George Banks has recovered from his ...   ...     76578911   \n",
              "\n",
              "  runtime                                   spoken_languages    status  \\\n",
              "0    81.0           [{'iso_639_1': 'en', 'name': 'English'}]  Released   \n",
              "1   104.0  [{'iso_639_1': 'en', 'name': 'English'}, {'iso...  Released   \n",
              "2   101.0           [{'iso_639_1': 'en', 'name': 'English'}]  Released   \n",
              "3   127.0           [{'iso_639_1': 'en', 'name': 'English'}]  Released   \n",
              "4   106.0           [{'iso_639_1': 'en', 'name': 'English'}]  Released   \n",
              "\n",
              "                                             tagline  \\\n",
              "0                                                NaN   \n",
              "1          Roll the dice and unleash the excitement!   \n",
              "2  Still Yelling. Still Fighting. Still Ready for...   \n",
              "3  Friends are the people who let you be yourself...   \n",
              "4  Just When His World Is Back To Normal... He's ...   \n",
              "\n",
              "                         title  video vote_average vote_count movieId  \n",
              "0                    Toy Story  False          7.7     5415.0       1  \n",
              "1                      Jumanji  False          6.9     2413.0       2  \n",
              "2             Grumpier Old Men  False          6.5       92.0       3  \n",
              "3            Waiting to Exhale  False          6.1       34.0       4  \n",
              "4  Father of the Bride Part II  False          5.7      173.0       5  \n",
              "\n",
              "[5 rows x 25 columns]"
            ]
          },
          "metadata": {
            "tags": []
          },
          "execution_count": 32
        }
      ]
    },
    {
      "metadata": {
        "id": "iYcN3ALiwjJg",
        "colab_type": "code",
        "outputId": "15e7d70e-b7dc-469f-a78a-26a8e08bc38c",
        "colab": {
          "base_uri": "https://localhost:8080/",
          "height": 527
        }
      },
      "cell_type": "code",
      "source": [
        "movies_metadata.info()"
      ],
      "execution_count": 0,
      "outputs": [
        {
          "output_type": "stream",
          "text": [
            "<class 'pandas.core.frame.DataFrame'>\n",
            "Int64Index: 14196 entries, 0 to 85613\n",
            "Data columns (total 25 columns):\n",
            "adult                    14196 non-null object\n",
            "belongs_to_collection    2562 non-null object\n",
            "budget                   14196 non-null object\n",
            "genres                   14196 non-null object\n",
            "homepage                 3663 non-null object\n",
            "id                       14196 non-null int64\n",
            "imdb_id                  14196 non-null object\n",
            "original_language        14196 non-null object\n",
            "original_title           14196 non-null object\n",
            "overview                 14177 non-null object\n",
            "popularity               14196 non-null object\n",
            "poster_path              14192 non-null object\n",
            "production_companies     14196 non-null object\n",
            "production_countries     14196 non-null object\n",
            "release_date             14196 non-null object\n",
            "revenue                  14195 non-null object\n",
            "runtime                  14195 non-null object\n",
            "spoken_languages         14194 non-null object\n",
            "status                   14192 non-null object\n",
            "tagline                  10810 non-null object\n",
            "title                    14194 non-null object\n",
            "video                    14194 non-null object\n",
            "vote_average             14193 non-null float64\n",
            "vote_count               14193 non-null float64\n",
            "movieId                  14196 non-null int64\n",
            "dtypes: float64(2), int64(2), object(21)\n",
            "memory usage: 2.8+ MB\n"
          ],
          "name": "stdout"
        }
      ]
    },
    {
      "metadata": {
        "id": "DY4ff5TdyVX7",
        "colab_type": "text"
      },
      "cell_type": "markdown",
      "source": [
        "\n",
        "Since some movies may have low vote average but more number of votes, while other movies may have high vote average and less vote counts, We need a common medium to sort the movies to create top movies chart. For this, let's use IMDB's weighted rating formula to construct top movies chart. Mathematically, it is represented as follows:\n",
        "\n",
        "Weighted Rating (WR) = (v/(v+m)) R+(m/(v+m)) C\n",
        "\n",
        "Where, \n",
        "R = average for the movie (mean) = (Rating)\n",
        "v = number of votes for the movie = (votes)\n",
        "m = minimum votes required to be listed in the \n",
        "C = the mean vote across the whole report \n",
        "\n",
        "The next step is to determine an appropriate value for m, the minimum votes required to be listed in the chart. We will use 95th percentile as our cutoff. In other words, for a movie to feature in the charts, it must have more votes than at least 95% of the movies in the list.\n",
        "\n",
        "I will build our overall Top 100 Chart and will define a function to build charts for a particular genre. Let's begin!\n",
        "\n",
        "<<<<< enter link for IMDB weighted rating here\n"
      ]
    },
    {
      "metadata": {
        "id": "WodlVkS8wjHl",
        "colab_type": "code",
        "outputId": "c4f947a0-be20-44f9-b19c-8757583dc935",
        "colab": {
          "base_uri": "https://localhost:8080/",
          "height": 34
        }
      },
      "cell_type": "code",
      "source": [
        "no_of_votes = movies_metadata[movies_metadata['vote_count'].notnull()]['vote_count'].astype('int')\n",
        "vote_mean = movies_metadata[movies_metadata['vote_average'].notnull()]['vote_average'].astype('int')\n",
        "C = vote_mean.mean()\n",
        "C"
      ],
      "execution_count": 0,
      "outputs": [
        {
          "output_type": "execute_result",
          "data": {
            "text/plain": [
              "5.933065595716198"
            ]
          },
          "metadata": {
            "tags": []
          },
          "execution_count": 34
        }
      ]
    },
    {
      "metadata": {
        "id": "NZeVxNZLwjFY",
        "colab_type": "code",
        "outputId": "809a887e-37ae-42cc-9229-0240b55f234f",
        "colab": {
          "base_uri": "https://localhost:8080/",
          "height": 34
        }
      },
      "cell_type": "code",
      "source": [
        "m = no_of_votes.quantile(0.95)\n",
        "m"
      ],
      "execution_count": 0,
      "outputs": [
        {
          "output_type": "execute_result",
          "data": {
            "text/plain": [
              "2313.3999999999996"
            ]
          },
          "metadata": {
            "tags": []
          },
          "execution_count": 35
        }
      ]
    },
    {
      "metadata": {
        "id": "ywzM3FPKwjDN",
        "colab_type": "code",
        "colab": {}
      },
      "cell_type": "code",
      "source": [
        "# Adding year column based on movies release date\n",
        "movies_metadata['year'] = pd.to_datetime(movies_metadata['release_date'], errors='coerce').apply(lambda x: str(x).split('-')[0] if x != np.nan else np.nan)"
      ],
      "execution_count": 0,
      "outputs": []
    },
    {
      "metadata": {
        "id": "BOhPAClTwjAF",
        "colab_type": "code",
        "outputId": "2e374783-9fd9-49c8-d500-7b3a48c3ef52",
        "colab": {
          "base_uri": "https://localhost:8080/",
          "height": 34
        }
      },
      "cell_type": "code",
      "source": [
        "movies_metadata['year'] = pd.to_datetime(movies_metadata['release_date'], errors='coerce').apply(lambda x: str(x).split('-')[0] if x != np.nan else np.nan)\n",
        "top_movies = movies_metadata[(movies_metadata['vote_count'] >= m) & (movies_metadata['vote_count'].notnull()) & (movies_metadata['vote_average'].notnull())][['title', 'year', 'vote_count', 'vote_average', 'popularity', 'genres']]\n",
        "top_movies['vote_count'] = top_movies['vote_count'].astype('int')\n",
        "top_movies['vote_average'] = top_movies['vote_average'].astype('int')\n",
        "top_movies.shape"
      ],
      "execution_count": 0,
      "outputs": [
        {
          "output_type": "execute_result",
          "data": {
            "text/plain": [
              "(710, 6)"
            ]
          },
          "metadata": {
            "tags": []
          },
          "execution_count": 37
        }
      ]
    },
    {
      "metadata": {
        "id": "nLhgFql9KEhj",
        "colab_type": "text"
      },
      "cell_type": "markdown",
      "source": [
        "Therefore, to qualify to be considered for the chart, a movie has to have at least 2079 votes on TMDB. We also see that the average rating for a movie on TMDB is 5.916 on a scale of 10. 455 Movies qualify to be on our chart."
      ]
    },
    {
      "metadata": {
        "id": "atSbCdqTKOCA",
        "colab_type": "code",
        "colab": {}
      },
      "cell_type": "code",
      "source": [
        "def weighted_rating(x):\n",
        "  V=x['vote_count']\n",
        "  R=x['vote_average']\n",
        "  return (V/(V+m)*R)+(m/(m+V)*C)\n",
        "  "
      ],
      "execution_count": 0,
      "outputs": []
    },
    {
      "metadata": {
        "id": "2QK96p3bKN3Y",
        "colab_type": "code",
        "colab": {}
      },
      "cell_type": "code",
      "source": [
        "top_movies['wr']=top_movies.apply(weighted_rating,axis=1)"
      ],
      "execution_count": 0,
      "outputs": []
    },
    {
      "metadata": {
        "id": "lI4PGCfpwi7e",
        "colab_type": "code",
        "colab": {}
      },
      "cell_type": "code",
      "source": [
        "top_movies = top_movies.sort_values('wr', ascending=False).head(100)"
      ],
      "execution_count": 0,
      "outputs": []
    },
    {
      "metadata": {
        "id": "-d7afNOohrZl",
        "colab_type": "code",
        "outputId": "e9353129-2024-45fd-8cea-a3c3c0a954f1",
        "colab": {
          "base_uri": "https://localhost:8080/",
          "height": 514
        }
      },
      "cell_type": "code",
      "source": [
        "top_movies.head(15)"
      ],
      "execution_count": 0,
      "outputs": [
        {
          "output_type": "execute_result",
          "data": {
            "text/html": [
              "<div>\n",
              "<style scoped>\n",
              "    .dataframe tbody tr th:only-of-type {\n",
              "        vertical-align: middle;\n",
              "    }\n",
              "\n",
              "    .dataframe tbody tr th {\n",
              "        vertical-align: top;\n",
              "    }\n",
              "\n",
              "    .dataframe thead th {\n",
              "        text-align: right;\n",
              "    }\n",
              "</style>\n",
              "<table border=\"1\" class=\"dataframe\">\n",
              "  <thead>\n",
              "    <tr style=\"text-align: right;\">\n",
              "      <th></th>\n",
              "      <th>title</th>\n",
              "      <th>year</th>\n",
              "      <th>vote_count</th>\n",
              "      <th>vote_average</th>\n",
              "      <th>popularity</th>\n",
              "      <th>genres</th>\n",
              "      <th>wr</th>\n",
              "    </tr>\n",
              "  </thead>\n",
              "  <tbody>\n",
              "    <tr>\n",
              "      <th>29996</th>\n",
              "      <td>Inception</td>\n",
              "      <td>2010</td>\n",
              "      <td>14075</td>\n",
              "      <td>8</td>\n",
              "      <td>29.108149</td>\n",
              "      <td>[Action, Thriller, Science Fiction, Mystery, A...</td>\n",
              "      <td>7.708230</td>\n",
              "    </tr>\n",
              "    <tr>\n",
              "      <th>20651</th>\n",
              "      <td>Inception</td>\n",
              "      <td>2010</td>\n",
              "      <td>14075</td>\n",
              "      <td>8</td>\n",
              "      <td>29.108149</td>\n",
              "      <td>[Action, Thriller, Science Fiction, Mystery, A...</td>\n",
              "      <td>7.708230</td>\n",
              "    </tr>\n",
              "    <tr>\n",
              "      <th>24256</th>\n",
              "      <td>The Dark Knight</td>\n",
              "      <td>2008</td>\n",
              "      <td>12269</td>\n",
              "      <td>8</td>\n",
              "      <td>123.167259</td>\n",
              "      <td>[Drama, Action, Crime, Thriller]</td>\n",
              "      <td>7.672095</td>\n",
              "    </tr>\n",
              "    <tr>\n",
              "      <th>15057</th>\n",
              "      <td>The Dark Knight</td>\n",
              "      <td>2008</td>\n",
              "      <td>12269</td>\n",
              "      <td>8</td>\n",
              "      <td>123.167259</td>\n",
              "      <td>[Drama, Action, Crime, Thriller]</td>\n",
              "      <td>7.672095</td>\n",
              "    </tr>\n",
              "    <tr>\n",
              "      <th>45852</th>\n",
              "      <td>Interstellar</td>\n",
              "      <td>2014</td>\n",
              "      <td>11187</td>\n",
              "      <td>8</td>\n",
              "      <td>32.213481</td>\n",
              "      <td>[Adventure, Drama, Science Fiction]</td>\n",
              "      <td>7.645814</td>\n",
              "    </tr>\n",
              "    <tr>\n",
              "      <th>36025</th>\n",
              "      <td>Interstellar</td>\n",
              "      <td>2014</td>\n",
              "      <td>11187</td>\n",
              "      <td>8</td>\n",
              "      <td>32.213481</td>\n",
              "      <td>[Adventure, Drama, Science Fiction]</td>\n",
              "      <td>7.645814</td>\n",
              "    </tr>\n",
              "    <tr>\n",
              "      <th>5424</th>\n",
              "      <td>Fight Club</td>\n",
              "      <td>1999</td>\n",
              "      <td>9678</td>\n",
              "      <td>8</td>\n",
              "      <td>63.869599</td>\n",
              "      <td>[Drama]</td>\n",
              "      <td>7.601244</td>\n",
              "    </tr>\n",
              "    <tr>\n",
              "      <th>8750</th>\n",
              "      <td>The Lord of the Rings: The Fellowship of the Ring</td>\n",
              "      <td>2001</td>\n",
              "      <td>8892</td>\n",
              "      <td>8</td>\n",
              "      <td>32.070725</td>\n",
              "      <td>[Adventure, Fantasy, Action]</td>\n",
              "      <td>7.573273</td>\n",
              "    </tr>\n",
              "    <tr>\n",
              "      <th>292</th>\n",
              "      <td>Pulp Fiction</td>\n",
              "      <td>1994</td>\n",
              "      <td>8670</td>\n",
              "      <td>8</td>\n",
              "      <td>140.950236</td>\n",
              "      <td>[Thriller, Crime]</td>\n",
              "      <td>7.564648</td>\n",
              "    </tr>\n",
              "    <tr>\n",
              "      <th>314</th>\n",
              "      <td>The Shawshank Redemption</td>\n",
              "      <td>1994</td>\n",
              "      <td>8358</td>\n",
              "      <td>8</td>\n",
              "      <td>51.645403</td>\n",
              "      <td>[Drama, Crime]</td>\n",
              "      <td>7.551920</td>\n",
              "    </tr>\n",
              "    <tr>\n",
              "      <th>13462</th>\n",
              "      <td>The Lord of the Rings: The Return of the King</td>\n",
              "      <td>2003</td>\n",
              "      <td>8226</td>\n",
              "      <td>8</td>\n",
              "      <td>29.324358</td>\n",
              "      <td>[Adventure, Fantasy, Action]</td>\n",
              "      <td>7.546308</td>\n",
              "    </tr>\n",
              "    <tr>\n",
              "      <th>4453</th>\n",
              "      <td>The Lord of the Rings: The Return of the King</td>\n",
              "      <td>2003</td>\n",
              "      <td>8226</td>\n",
              "      <td>8</td>\n",
              "      <td>29.324358</td>\n",
              "      <td>[Adventure, Fantasy, Action]</td>\n",
              "      <td>7.546308</td>\n",
              "    </tr>\n",
              "    <tr>\n",
              "      <th>351</th>\n",
              "      <td>Forrest Gump</td>\n",
              "      <td>1994</td>\n",
              "      <td>8147</td>\n",
              "      <td>8</td>\n",
              "      <td>48.307194</td>\n",
              "      <td>[Comedy, Drama, Romance]</td>\n",
              "      <td>7.542881</td>\n",
              "    </tr>\n",
              "    <tr>\n",
              "      <th>2013</th>\n",
              "      <td>The Lord of the Rings: The Two Towers</td>\n",
              "      <td>2002</td>\n",
              "      <td>7641</td>\n",
              "      <td>8</td>\n",
              "      <td>29.423537</td>\n",
              "      <td>[Adventure, Fantasy, Action]</td>\n",
              "      <td>7.519645</td>\n",
              "    </tr>\n",
              "    <tr>\n",
              "      <th>10990</th>\n",
              "      <td>The Lord of the Rings: The Two Towers</td>\n",
              "      <td>2002</td>\n",
              "      <td>7641</td>\n",
              "      <td>8</td>\n",
              "      <td>29.423537</td>\n",
              "      <td>[Adventure, Fantasy, Action]</td>\n",
              "      <td>7.519645</td>\n",
              "    </tr>\n",
              "  </tbody>\n",
              "</table>\n",
              "</div>"
            ],
            "text/plain": [
              "                                                   title  year  vote_count  \\\n",
              "29996                                          Inception  2010       14075   \n",
              "20651                                          Inception  2010       14075   \n",
              "24256                                    The Dark Knight  2008       12269   \n",
              "15057                                    The Dark Knight  2008       12269   \n",
              "45852                                       Interstellar  2014       11187   \n",
              "36025                                       Interstellar  2014       11187   \n",
              "5424                                          Fight Club  1999        9678   \n",
              "8750   The Lord of the Rings: The Fellowship of the Ring  2001        8892   \n",
              "292                                         Pulp Fiction  1994        8670   \n",
              "314                             The Shawshank Redemption  1994        8358   \n",
              "13462      The Lord of the Rings: The Return of the King  2003        8226   \n",
              "4453       The Lord of the Rings: The Return of the King  2003        8226   \n",
              "351                                         Forrest Gump  1994        8147   \n",
              "2013               The Lord of the Rings: The Two Towers  2002        7641   \n",
              "10990              The Lord of the Rings: The Two Towers  2002        7641   \n",
              "\n",
              "       vote_average  popularity  \\\n",
              "29996             8   29.108149   \n",
              "20651             8   29.108149   \n",
              "24256             8  123.167259   \n",
              "15057             8  123.167259   \n",
              "45852             8   32.213481   \n",
              "36025             8   32.213481   \n",
              "5424              8   63.869599   \n",
              "8750              8   32.070725   \n",
              "292               8  140.950236   \n",
              "314               8   51.645403   \n",
              "13462             8   29.324358   \n",
              "4453              8   29.324358   \n",
              "351               8   48.307194   \n",
              "2013              8   29.423537   \n",
              "10990             8   29.423537   \n",
              "\n",
              "                                                  genres        wr  \n",
              "29996  [Action, Thriller, Science Fiction, Mystery, A...  7.708230  \n",
              "20651  [Action, Thriller, Science Fiction, Mystery, A...  7.708230  \n",
              "24256                   [Drama, Action, Crime, Thriller]  7.672095  \n",
              "15057                   [Drama, Action, Crime, Thriller]  7.672095  \n",
              "45852                [Adventure, Drama, Science Fiction]  7.645814  \n",
              "36025                [Adventure, Drama, Science Fiction]  7.645814  \n",
              "5424                                             [Drama]  7.601244  \n",
              "8750                        [Adventure, Fantasy, Action]  7.573273  \n",
              "292                                    [Thriller, Crime]  7.564648  \n",
              "314                                       [Drama, Crime]  7.551920  \n",
              "13462                       [Adventure, Fantasy, Action]  7.546308  \n",
              "4453                        [Adventure, Fantasy, Action]  7.546308  \n",
              "351                             [Comedy, Drama, Romance]  7.542881  \n",
              "2013                        [Adventure, Fantasy, Action]  7.519645  \n",
              "10990                       [Adventure, Fantasy, Action]  7.519645  "
            ]
          },
          "metadata": {
            "tags": []
          },
          "execution_count": 41
        }
      ]
    },
    {
      "metadata": {
        "id": "Wj9gry3gLYNV",
        "colab_type": "code",
        "outputId": "04b34890-46c2-4f19-874c-72bcd09a0355",
        "colab": {
          "base_uri": "https://localhost:8080/",
          "height": 68
        }
      },
      "cell_type": "code",
      "source": [
        "top_movies.columns"
      ],
      "execution_count": 0,
      "outputs": [
        {
          "output_type": "execute_result",
          "data": {
            "text/plain": [
              "Index(['title', 'year', 'vote_count', 'vote_average', 'popularity', 'genres',\n",
              "       'wr'],\n",
              "      dtype='object')"
            ]
          },
          "metadata": {
            "tags": []
          },
          "execution_count": 42
        }
      ]
    },
    {
      "metadata": {
        "id": "H9g7gcUSLYKe",
        "colab_type": "code",
        "colab": {}
      },
      "cell_type": "code",
      "source": [
        "y = movies_metadata.apply(lambda x: pd.Series(x['genres']),axis=1).stack().reset_index(level=1, drop=True)\n",
        "y.name = 'genre'\n",
        "gen_data = movies_metadata.drop('genres', axis=1).join(y)"
      ],
      "execution_count": 0,
      "outputs": []
    },
    {
      "metadata": {
        "id": "-QC7cuipMl9h",
        "colab_type": "text"
      },
      "cell_type": "markdown",
      "source": [
        "Let us now construct our function that builds charts for particular genres. For this, we will use relax our default conditions to the 85th percentile instead of 95."
      ]
    },
    {
      "metadata": {
        "id": "VS62cRWTLYIA",
        "colab_type": "code",
        "colab": {}
      },
      "cell_type": "code",
      "source": [
        "def top_movies_genre(genre, percentile=0.85):\n",
        "    df = gen_data[gen_data['genre'] == genre]\n",
        "    no_of_votes = df[df['vote_count'].notnull()]['vote_count'].astype('int')\n",
        "    vote_mean = df[df['vote_average'].notnull()]['vote_average'].astype('int')\n",
        "    C = vote_mean.mean()\n",
        "    m = no_of_votes.quantile(percentile)\n",
        "    \n",
        "    top_movies = df[(df['vote_count'] >= m) & (df['vote_count'].notnull()) & (df['vote_average'].notnull())][['title', 'year', 'vote_count', 'vote_average', 'popularity']]\n",
        "    top_movies['vote_count'] = top_movies['vote_count'].astype('int')\n",
        "    top_movies['vote_average'] = top_movies['vote_average'].astype('int')\n",
        "    \n",
        "    top_movies['wr'] = top_movies.apply(lambda x: (x['vote_count']/(x['vote_count']+m) * x['vote_average']) + (m/(m+x['vote_count']) * C), axis=1)\n",
        "    top_movies = top_movies.sort_values('wr', ascending=False).head(100)\n",
        "    \n",
        "    return top_movies"
      ],
      "execution_count": 0,
      "outputs": []
    },
    {
      "metadata": {
        "id": "o-uDSp1nLYE6",
        "colab_type": "code",
        "outputId": "5bbf378c-24bf-4e07-fcf2-9873274d9658",
        "colab": {
          "base_uri": "https://localhost:8080/",
          "height": 359
        }
      },
      "cell_type": "code",
      "source": [
        "top_movies_genre('Animation').head(10)"
      ],
      "execution_count": 0,
      "outputs": [
        {
          "output_type": "execute_result",
          "data": {
            "text/html": [
              "<div>\n",
              "<style scoped>\n",
              "    .dataframe tbody tr th:only-of-type {\n",
              "        vertical-align: middle;\n",
              "    }\n",
              "\n",
              "    .dataframe tbody tr th {\n",
              "        vertical-align: top;\n",
              "    }\n",
              "\n",
              "    .dataframe thead th {\n",
              "        text-align: right;\n",
              "    }\n",
              "</style>\n",
              "<table border=\"1\" class=\"dataframe\">\n",
              "  <thead>\n",
              "    <tr style=\"text-align: right;\">\n",
              "      <th></th>\n",
              "      <th>title</th>\n",
              "      <th>year</th>\n",
              "      <th>vote_count</th>\n",
              "      <th>vote_average</th>\n",
              "      <th>popularity</th>\n",
              "      <th>wr</th>\n",
              "    </tr>\n",
              "  </thead>\n",
              "  <tbody>\n",
              "    <tr>\n",
              "      <th>359</th>\n",
              "      <td>The Lion King</td>\n",
              "      <td>1994</td>\n",
              "      <td>5520</td>\n",
              "      <td>8</td>\n",
              "      <td>21.605761</td>\n",
              "      <td>7.583768</td>\n",
              "    </tr>\n",
              "    <tr>\n",
              "      <th>1680</th>\n",
              "      <td>Spirited Away</td>\n",
              "      <td>2001</td>\n",
              "      <td>3968</td>\n",
              "      <td>8</td>\n",
              "      <td>41.048867</td>\n",
              "      <td>7.471422</td>\n",
              "    </tr>\n",
              "    <tr>\n",
              "      <th>10657</th>\n",
              "      <td>Spirited Away</td>\n",
              "      <td>2001</td>\n",
              "      <td>3968</td>\n",
              "      <td>8</td>\n",
              "      <td>41.048867</td>\n",
              "      <td>7.471422</td>\n",
              "    </tr>\n",
              "    <tr>\n",
              "      <th>18786</th>\n",
              "      <td>Howl's Moving Castle</td>\n",
              "      <td>2004</td>\n",
              "      <td>2049</td>\n",
              "      <td>8</td>\n",
              "      <td>16.136048</td>\n",
              "      <td>7.206649</td>\n",
              "    </tr>\n",
              "    <tr>\n",
              "      <th>9693</th>\n",
              "      <td>Howl's Moving Castle</td>\n",
              "      <td>2004</td>\n",
              "      <td>2049</td>\n",
              "      <td>8</td>\n",
              "      <td>16.136048</td>\n",
              "      <td>7.206649</td>\n",
              "    </tr>\n",
              "    <tr>\n",
              "      <th>5465</th>\n",
              "      <td>Princess Mononoke</td>\n",
              "      <td>1997</td>\n",
              "      <td>2041</td>\n",
              "      <td>8</td>\n",
              "      <td>17.166725</td>\n",
              "      <td>7.204989</td>\n",
              "    </tr>\n",
              "    <tr>\n",
              "      <th>26875</th>\n",
              "      <td>Up</td>\n",
              "      <td>2009</td>\n",
              "      <td>7048</td>\n",
              "      <td>7</td>\n",
              "      <td>19.330884</td>\n",
              "      <td>6.857607</td>\n",
              "    </tr>\n",
              "    <tr>\n",
              "      <th>17606</th>\n",
              "      <td>Up</td>\n",
              "      <td>2009</td>\n",
              "      <td>7048</td>\n",
              "      <td>7</td>\n",
              "      <td>19.330884</td>\n",
              "      <td>6.857607</td>\n",
              "    </tr>\n",
              "    <tr>\n",
              "      <th>50384</th>\n",
              "      <td>Inside Out</td>\n",
              "      <td>2015</td>\n",
              "      <td>6737</td>\n",
              "      <td>7</td>\n",
              "      <td>23.985587</td>\n",
              "      <td>6.852409</td>\n",
              "    </tr>\n",
              "    <tr>\n",
              "      <th>60516</th>\n",
              "      <td>Inside Out</td>\n",
              "      <td>2015</td>\n",
              "      <td>6737</td>\n",
              "      <td>7</td>\n",
              "      <td>23.985587</td>\n",
              "      <td>6.852409</td>\n",
              "    </tr>\n",
              "  </tbody>\n",
              "</table>\n",
              "</div>"
            ],
            "text/plain": [
              "                      title  year  vote_count  vote_average popularity  \\\n",
              "359           The Lion King  1994        5520             8  21.605761   \n",
              "1680          Spirited Away  2001        3968             8  41.048867   \n",
              "10657         Spirited Away  2001        3968             8  41.048867   \n",
              "18786  Howl's Moving Castle  2004        2049             8  16.136048   \n",
              "9693   Howl's Moving Castle  2004        2049             8  16.136048   \n",
              "5465      Princess Mononoke  1997        2041             8  17.166725   \n",
              "26875                    Up  2009        7048             7  19.330884   \n",
              "17606                    Up  2009        7048             7  19.330884   \n",
              "50384            Inside Out  2015        6737             7  23.985587   \n",
              "60516            Inside Out  2015        6737             7  23.985587   \n",
              "\n",
              "             wr  \n",
              "359    7.583768  \n",
              "1680   7.471422  \n",
              "10657  7.471422  \n",
              "18786  7.206649  \n",
              "9693   7.206649  \n",
              "5465   7.204989  \n",
              "26875  6.857607  \n",
              "17606  6.857607  \n",
              "50384  6.852409  \n",
              "60516  6.852409  "
            ]
          },
          "metadata": {
            "tags": []
          },
          "execution_count": 45
        }
      ]
    },
    {
      "metadata": {
        "id": "K1M5i5XqNCQV",
        "colab_type": "text"
      },
      "cell_type": "markdown",
      "source": [
        "## Content Based Recommender\n",
        "The simple recommender that we just built provides just the top results for the genre, and it shows the the same results for every user looking for that genre.\n",
        "\n",
        "It also dosen't account for fan following towards particular director or Actors, which accounts for people also watching the movies that are less popular but from famous actors and directors.\n",
        "\n",
        "For personalized recommendations, We will create a recommendation system that computes similarity between movies based on certain features and recommend movies that are similar to user's taste. As we are using movie's metadata (or content) for creating this system, it is also referred as Content Based Filtering.\n",
        "\n",
        "We will build four Content Based Recommenders based on:\n",
        "\n",
        "- Movie overview's that particular user has liked and use latent semantic similarity for comparing similar movies\n",
        "- Adding Taglines and Movie Overviews and compare using pairwise cosine similarity\n",
        "- Movie Cast, Crew, Keywords and Genre"
      ]
    },
    {
      "metadata": {
        "id": "BHuI4maMNH1c",
        "colab_type": "text"
      },
      "cell_type": "markdown",
      "source": [
        "#### Movie Description Based Recommender\n",
        "Let us first try to build a recommender using movie descriptions and taglines. We do not have a quantitative metric to judge our machine's performance so this will have to be done qualitatively."
      ]
    },
    {
      "metadata": {
        "id": "99D-uGIeLYCW",
        "colab_type": "code",
        "outputId": "c461002f-9d84-4be5-f252-f6c0122e10ac",
        "colab": {
          "base_uri": "https://localhost:8080/",
          "height": 695
        }
      },
      "cell_type": "code",
      "source": [
        "movies_metadata.head()"
      ],
      "execution_count": 0,
      "outputs": [
        {
          "output_type": "execute_result",
          "data": {
            "text/html": [
              "<div>\n",
              "<style scoped>\n",
              "    .dataframe tbody tr th:only-of-type {\n",
              "        vertical-align: middle;\n",
              "    }\n",
              "\n",
              "    .dataframe tbody tr th {\n",
              "        vertical-align: top;\n",
              "    }\n",
              "\n",
              "    .dataframe thead th {\n",
              "        text-align: right;\n",
              "    }\n",
              "</style>\n",
              "<table border=\"1\" class=\"dataframe\">\n",
              "  <thead>\n",
              "    <tr style=\"text-align: right;\">\n",
              "      <th></th>\n",
              "      <th>adult</th>\n",
              "      <th>belongs_to_collection</th>\n",
              "      <th>budget</th>\n",
              "      <th>genres</th>\n",
              "      <th>homepage</th>\n",
              "      <th>id</th>\n",
              "      <th>imdb_id</th>\n",
              "      <th>original_language</th>\n",
              "      <th>original_title</th>\n",
              "      <th>overview</th>\n",
              "      <th>...</th>\n",
              "      <th>runtime</th>\n",
              "      <th>spoken_languages</th>\n",
              "      <th>status</th>\n",
              "      <th>tagline</th>\n",
              "      <th>title</th>\n",
              "      <th>video</th>\n",
              "      <th>vote_average</th>\n",
              "      <th>vote_count</th>\n",
              "      <th>movieId</th>\n",
              "      <th>year</th>\n",
              "    </tr>\n",
              "  </thead>\n",
              "  <tbody>\n",
              "    <tr>\n",
              "      <th>0</th>\n",
              "      <td>False</td>\n",
              "      <td>{'id': 10194, 'name': 'Toy Story Collection', ...</td>\n",
              "      <td>30000000</td>\n",
              "      <td>[Animation, Comedy, Family]</td>\n",
              "      <td>http://toystory.disney.com/toy-story</td>\n",
              "      <td>862</td>\n",
              "      <td>tt0114709</td>\n",
              "      <td>en</td>\n",
              "      <td>Toy Story</td>\n",
              "      <td>Led by Woody, Andy's toys live happily in his ...</td>\n",
              "      <td>...</td>\n",
              "      <td>81.0</td>\n",
              "      <td>[{'iso_639_1': 'en', 'name': 'English'}]</td>\n",
              "      <td>Released</td>\n",
              "      <td>NaN</td>\n",
              "      <td>Toy Story</td>\n",
              "      <td>False</td>\n",
              "      <td>7.7</td>\n",
              "      <td>5415.0</td>\n",
              "      <td>1</td>\n",
              "      <td>1995</td>\n",
              "    </tr>\n",
              "    <tr>\n",
              "      <th>1</th>\n",
              "      <td>False</td>\n",
              "      <td>NaN</td>\n",
              "      <td>65000000</td>\n",
              "      <td>[Adventure, Fantasy, Family]</td>\n",
              "      <td>NaN</td>\n",
              "      <td>8844</td>\n",
              "      <td>tt0113497</td>\n",
              "      <td>en</td>\n",
              "      <td>Jumanji</td>\n",
              "      <td>When siblings Judy and Peter discover an encha...</td>\n",
              "      <td>...</td>\n",
              "      <td>104.0</td>\n",
              "      <td>[{'iso_639_1': 'en', 'name': 'English'}, {'iso...</td>\n",
              "      <td>Released</td>\n",
              "      <td>Roll the dice and unleash the excitement!</td>\n",
              "      <td>Jumanji</td>\n",
              "      <td>False</td>\n",
              "      <td>6.9</td>\n",
              "      <td>2413.0</td>\n",
              "      <td>2</td>\n",
              "      <td>1995</td>\n",
              "    </tr>\n",
              "    <tr>\n",
              "      <th>2</th>\n",
              "      <td>False</td>\n",
              "      <td>{'id': 119050, 'name': 'Grumpy Old Men Collect...</td>\n",
              "      <td>0</td>\n",
              "      <td>[Romance, Comedy]</td>\n",
              "      <td>NaN</td>\n",
              "      <td>15602</td>\n",
              "      <td>tt0113228</td>\n",
              "      <td>en</td>\n",
              "      <td>Grumpier Old Men</td>\n",
              "      <td>A family wedding reignites the ancient feud be...</td>\n",
              "      <td>...</td>\n",
              "      <td>101.0</td>\n",
              "      <td>[{'iso_639_1': 'en', 'name': 'English'}]</td>\n",
              "      <td>Released</td>\n",
              "      <td>Still Yelling. Still Fighting. Still Ready for...</td>\n",
              "      <td>Grumpier Old Men</td>\n",
              "      <td>False</td>\n",
              "      <td>6.5</td>\n",
              "      <td>92.0</td>\n",
              "      <td>3</td>\n",
              "      <td>1995</td>\n",
              "    </tr>\n",
              "    <tr>\n",
              "      <th>3</th>\n",
              "      <td>False</td>\n",
              "      <td>NaN</td>\n",
              "      <td>16000000</td>\n",
              "      <td>[Comedy, Drama, Romance]</td>\n",
              "      <td>NaN</td>\n",
              "      <td>31357</td>\n",
              "      <td>tt0114885</td>\n",
              "      <td>en</td>\n",
              "      <td>Waiting to Exhale</td>\n",
              "      <td>Cheated on, mistreated and stepped on, the wom...</td>\n",
              "      <td>...</td>\n",
              "      <td>127.0</td>\n",
              "      <td>[{'iso_639_1': 'en', 'name': 'English'}]</td>\n",
              "      <td>Released</td>\n",
              "      <td>Friends are the people who let you be yourself...</td>\n",
              "      <td>Waiting to Exhale</td>\n",
              "      <td>False</td>\n",
              "      <td>6.1</td>\n",
              "      <td>34.0</td>\n",
              "      <td>4</td>\n",
              "      <td>1995</td>\n",
              "    </tr>\n",
              "    <tr>\n",
              "      <th>4</th>\n",
              "      <td>False</td>\n",
              "      <td>{'id': 96871, 'name': 'Father of the Bride Col...</td>\n",
              "      <td>0</td>\n",
              "      <td>[Comedy]</td>\n",
              "      <td>NaN</td>\n",
              "      <td>11862</td>\n",
              "      <td>tt0113041</td>\n",
              "      <td>en</td>\n",
              "      <td>Father of the Bride Part II</td>\n",
              "      <td>Just when George Banks has recovered from his ...</td>\n",
              "      <td>...</td>\n",
              "      <td>106.0</td>\n",
              "      <td>[{'iso_639_1': 'en', 'name': 'English'}]</td>\n",
              "      <td>Released</td>\n",
              "      <td>Just When His World Is Back To Normal... He's ...</td>\n",
              "      <td>Father of the Bride Part II</td>\n",
              "      <td>False</td>\n",
              "      <td>5.7</td>\n",
              "      <td>173.0</td>\n",
              "      <td>5</td>\n",
              "      <td>1995</td>\n",
              "    </tr>\n",
              "  </tbody>\n",
              "</table>\n",
              "<p>5 rows × 26 columns</p>\n",
              "</div>"
            ],
            "text/plain": [
              "   adult                              belongs_to_collection    budget  \\\n",
              "0  False  {'id': 10194, 'name': 'Toy Story Collection', ...  30000000   \n",
              "1  False                                                NaN  65000000   \n",
              "2  False  {'id': 119050, 'name': 'Grumpy Old Men Collect...         0   \n",
              "3  False                                                NaN  16000000   \n",
              "4  False  {'id': 96871, 'name': 'Father of the Bride Col...         0   \n",
              "\n",
              "                         genres                              homepage     id  \\\n",
              "0   [Animation, Comedy, Family]  http://toystory.disney.com/toy-story    862   \n",
              "1  [Adventure, Fantasy, Family]                                   NaN   8844   \n",
              "2             [Romance, Comedy]                                   NaN  15602   \n",
              "3      [Comedy, Drama, Romance]                                   NaN  31357   \n",
              "4                      [Comedy]                                   NaN  11862   \n",
              "\n",
              "     imdb_id original_language               original_title  \\\n",
              "0  tt0114709                en                    Toy Story   \n",
              "1  tt0113497                en                      Jumanji   \n",
              "2  tt0113228                en             Grumpier Old Men   \n",
              "3  tt0114885                en            Waiting to Exhale   \n",
              "4  tt0113041                en  Father of the Bride Part II   \n",
              "\n",
              "                                            overview  ...  runtime  \\\n",
              "0  Led by Woody, Andy's toys live happily in his ...  ...     81.0   \n",
              "1  When siblings Judy and Peter discover an encha...  ...    104.0   \n",
              "2  A family wedding reignites the ancient feud be...  ...    101.0   \n",
              "3  Cheated on, mistreated and stepped on, the wom...  ...    127.0   \n",
              "4  Just when George Banks has recovered from his ...  ...    106.0   \n",
              "\n",
              "                                    spoken_languages    status  \\\n",
              "0           [{'iso_639_1': 'en', 'name': 'English'}]  Released   \n",
              "1  [{'iso_639_1': 'en', 'name': 'English'}, {'iso...  Released   \n",
              "2           [{'iso_639_1': 'en', 'name': 'English'}]  Released   \n",
              "3           [{'iso_639_1': 'en', 'name': 'English'}]  Released   \n",
              "4           [{'iso_639_1': 'en', 'name': 'English'}]  Released   \n",
              "\n",
              "                                             tagline  \\\n",
              "0                                                NaN   \n",
              "1          Roll the dice and unleash the excitement!   \n",
              "2  Still Yelling. Still Fighting. Still Ready for...   \n",
              "3  Friends are the people who let you be yourself...   \n",
              "4  Just When His World Is Back To Normal... He's ...   \n",
              "\n",
              "                         title  video vote_average vote_count movieId  year  \n",
              "0                    Toy Story  False          7.7     5415.0       1  1995  \n",
              "1                      Jumanji  False          6.9     2413.0       2  1995  \n",
              "2             Grumpier Old Men  False          6.5       92.0       3  1995  \n",
              "3            Waiting to Exhale  False          6.1       34.0       4  1995  \n",
              "4  Father of the Bride Part II  False          5.7      173.0       5  1995  \n",
              "\n",
              "[5 rows x 26 columns]"
            ]
          },
          "metadata": {
            "tags": []
          },
          "execution_count": 46
        }
      ]
    },
    {
      "metadata": {
        "id": "16hqukJwNXfz",
        "colab_type": "text"
      },
      "cell_type": "markdown",
      "source": [
        "For our first attempt in building Description based recommendation system,\n",
        "- We will first take list of movies which a user has watched\n",
        "- Process the description of the movie using NLP techniques like removing stopwords and punctuations, applying Tokenization, lemmatization and stemming, and return a clean list of words\n",
        "- Using similar techniques, we will process the description/overview of movie in our movies_metadata for the top 80 percentile of movies\n",
        "- In the next step, we will calculate the similarity between the combined overview of the movies user has watched and the overview of the movies user hasn't watched\n",
        "- To get this similarity, we will use UMBC's API service to provide latent semantic similarity between 2 scentences. The link to which can be found [here](http://swoogle.umbc.edu/SimService/api.html)"
      ]
    },
    {
      "metadata": {
        "id": "iICmmfmUNfyL",
        "colab_type": "text"
      },
      "cell_type": "markdown",
      "source": [
        "Lets get the top movies that a user has rated more than average"
      ]
    },
    {
      "metadata": {
        "id": "_4llvH8tLX_b",
        "colab_type": "code",
        "outputId": "03fb1339-2404-4f23-836d-b805e606b456",
        "colab": {
          "base_uri": "https://localhost:8080/",
          "height": 204
        }
      },
      "cell_type": "code",
      "source": [
        "ratings=pd.read_csv('ratings.csv')\n",
        "ratings.head()"
      ],
      "execution_count": 0,
      "outputs": [
        {
          "output_type": "execute_result",
          "data": {
            "text/html": [
              "<div>\n",
              "<style scoped>\n",
              "    .dataframe tbody tr th:only-of-type {\n",
              "        vertical-align: middle;\n",
              "    }\n",
              "\n",
              "    .dataframe tbody tr th {\n",
              "        vertical-align: top;\n",
              "    }\n",
              "\n",
              "    .dataframe thead th {\n",
              "        text-align: right;\n",
              "    }\n",
              "</style>\n",
              "<table border=\"1\" class=\"dataframe\">\n",
              "  <thead>\n",
              "    <tr style=\"text-align: right;\">\n",
              "      <th></th>\n",
              "      <th>userId</th>\n",
              "      <th>movieId</th>\n",
              "      <th>rating</th>\n",
              "      <th>timestamp</th>\n",
              "    </tr>\n",
              "  </thead>\n",
              "  <tbody>\n",
              "    <tr>\n",
              "      <th>0</th>\n",
              "      <td>1</td>\n",
              "      <td>31</td>\n",
              "      <td>2.5</td>\n",
              "      <td>1260759144</td>\n",
              "    </tr>\n",
              "    <tr>\n",
              "      <th>1</th>\n",
              "      <td>1</td>\n",
              "      <td>1029</td>\n",
              "      <td>3.0</td>\n",
              "      <td>1260759179</td>\n",
              "    </tr>\n",
              "    <tr>\n",
              "      <th>2</th>\n",
              "      <td>1</td>\n",
              "      <td>1061</td>\n",
              "      <td>3.0</td>\n",
              "      <td>1260759182</td>\n",
              "    </tr>\n",
              "    <tr>\n",
              "      <th>3</th>\n",
              "      <td>1</td>\n",
              "      <td>1129</td>\n",
              "      <td>2.0</td>\n",
              "      <td>1260759185</td>\n",
              "    </tr>\n",
              "    <tr>\n",
              "      <th>4</th>\n",
              "      <td>1</td>\n",
              "      <td>1172</td>\n",
              "      <td>4.0</td>\n",
              "      <td>1260759205</td>\n",
              "    </tr>\n",
              "  </tbody>\n",
              "</table>\n",
              "</div>"
            ],
            "text/plain": [
              "   userId  movieId  rating   timestamp\n",
              "0       1       31     2.5  1260759144\n",
              "1       1     1029     3.0  1260759179\n",
              "2       1     1061     3.0  1260759182\n",
              "3       1     1129     2.0  1260759185\n",
              "4       1     1172     4.0  1260759205"
            ]
          },
          "metadata": {
            "tags": []
          },
          "execution_count": 47
        }
      ]
    },
    {
      "metadata": {
        "id": "ebCg7oeANY0P",
        "colab_type": "code",
        "outputId": "cdc3f755-7188-4a5c-ef4e-c2674324e653",
        "colab": {
          "base_uri": "https://localhost:8080/",
          "height": 34
        }
      },
      "cell_type": "code",
      "source": [
        "#Get movieId for above average ratings for userId 1\n",
        "ratings[(ratings['userId']==1) & (ratings['rating']>2.5)]['movieId'].tolist()"
      ],
      "execution_count": 0,
      "outputs": [
        {
          "output_type": "execute_result",
          "data": {
            "text/plain": [
              "[1029, 1061, 1172, 1339, 1953, 2105, 2150, 3671]"
            ]
          },
          "metadata": {
            "tags": []
          },
          "execution_count": 48
        }
      ]
    },
    {
      "metadata": {
        "id": "eJvqOlxRLX8W",
        "colab_type": "code",
        "colab": {}
      },
      "cell_type": "code",
      "source": [
        "def text_process(mess):\n",
        "    \"\"\"\n",
        "    1. remove punc\n",
        "    2. remove stop words\n",
        "    3. apply lemmatization\n",
        "    4. apply stemmization\n",
        "    5. return list clean overview\n",
        "    \n",
        "    \"\"\"\n",
        "    #Remove Stopwords and punctuations\n",
        "    nopunc = [char for char in mess if char not in string.punctuation]\n",
        "    stopwords = nltk.corpus.stopwords.words('english')\n",
        "    nopunc = ''.join(nopunc)\n",
        "    \n",
        "    #Apply tokenization\n",
        "    tokenized_list = []\n",
        "    tokenized_list =  [word for word in nopunc.split() if word.lower() not in stopwords]\n",
        "    \n",
        "    \n",
        "    wordnet_lemmatizer = WordNetLemmatizer()\n",
        "    snowball_stemmer = SnowballStemmer('english')\n",
        "\n",
        "    #Applying Lemmatization\n",
        "    \n",
        "    lemmatized_words = []\n",
        "    for word in tokenized_list:\n",
        "        lemmatized_words.append(wordnet_lemmatizer.lemmatize(word))\n",
        "\n",
        "   #Applying Stemmization\n",
        "   \n",
        "    cleaned_list  = []\n",
        "    for word in lemmatized_words:\n",
        "        cleaned_list.append(snowball_stemmer.stem(word))\n",
        "    return ' '.join(cleaned_list)"
      ],
      "execution_count": 0,
      "outputs": []
    },
    {
      "metadata": {
        "id": "zhkRmsdaLX5o",
        "colab_type": "code",
        "colab": {}
      },
      "cell_type": "code",
      "source": [
        "\n",
        "movies_metadata['overview'] = movies_metadata['overview'].astype(str)"
      ],
      "execution_count": 0,
      "outputs": []
    },
    {
      "metadata": {
        "id": "lG-dCv8bOD3I",
        "colab_type": "code",
        "colab": {}
      },
      "cell_type": "code",
      "source": [
        "# Pre-processing the overviews for all the movies\n",
        "movies_metadata['pro_overview'] = movies_metadata['overview'].apply(text_process)"
      ],
      "execution_count": 0,
      "outputs": []
    },
    {
      "metadata": {
        "id": "sxP1s3nNODzu",
        "colab_type": "code",
        "colab": {}
      },
      "cell_type": "code",
      "source": [
        "percentile = 0.90\n",
        "no_of_votes = movies_metadata[movies_metadata['vote_count'].notnull()]['vote_count'].astype('int')\n",
        "vote_mean = movies_metadata[movies_metadata['vote_average'].notnull()]['vote_average'].astype('int')\n",
        "C = vote_mean.mean()\n",
        "m = no_of_votes.quantile(percentile)\n",
        "\n",
        "top_movies = movies_metadata[(movies_metadata['vote_count'] >= m) & (movies_metadata['vote_count'].notnull()) & (movies_metadata['vote_average'].notnull())][['movieId','title', 'year', 'vote_count', 'vote_average', 'popularity','pro_overview']]\n",
        "top_movies['vote_count'] = top_movies['vote_count'].astype('int')\n",
        "top_movies['vote_average'] = top_movies['vote_average'].astype('int')"
      ],
      "execution_count": 0,
      "outputs": []
    },
    {
      "metadata": {
        "id": "FRCQf9B_ODwn",
        "colab_type": "code",
        "outputId": "b6cecdf3-ed15-4b46-f933-6e1d1be83bb3",
        "colab": {
          "base_uri": "https://localhost:8080/",
          "height": 204
        }
      },
      "cell_type": "code",
      "source": [
        "top_movies.sort_values(by='vote_count',ascending=False).head()"
      ],
      "execution_count": 0,
      "outputs": [
        {
          "output_type": "execute_result",
          "data": {
            "text/html": [
              "<div>\n",
              "<style scoped>\n",
              "    .dataframe tbody tr th:only-of-type {\n",
              "        vertical-align: middle;\n",
              "    }\n",
              "\n",
              "    .dataframe tbody tr th {\n",
              "        vertical-align: top;\n",
              "    }\n",
              "\n",
              "    .dataframe thead th {\n",
              "        text-align: right;\n",
              "    }\n",
              "</style>\n",
              "<table border=\"1\" class=\"dataframe\">\n",
              "  <thead>\n",
              "    <tr style=\"text-align: right;\">\n",
              "      <th></th>\n",
              "      <th>movieId</th>\n",
              "      <th>title</th>\n",
              "      <th>year</th>\n",
              "      <th>vote_count</th>\n",
              "      <th>vote_average</th>\n",
              "      <th>popularity</th>\n",
              "      <th>pro_overview</th>\n",
              "    </tr>\n",
              "  </thead>\n",
              "  <tbody>\n",
              "    <tr>\n",
              "      <th>29996</th>\n",
              "      <td>79132</td>\n",
              "      <td>Inception</td>\n",
              "      <td>2010</td>\n",
              "      <td>14075</td>\n",
              "      <td>8</td>\n",
              "      <td>29.108149</td>\n",
              "      <td>cobb skill thief commit corpor espionag infilt...</td>\n",
              "    </tr>\n",
              "    <tr>\n",
              "      <th>20651</th>\n",
              "      <td>79132</td>\n",
              "      <td>Inception</td>\n",
              "      <td>2010</td>\n",
              "      <td>14075</td>\n",
              "      <td>8</td>\n",
              "      <td>29.108149</td>\n",
              "      <td>cobb skill thief commit corpor espionag infilt...</td>\n",
              "    </tr>\n",
              "    <tr>\n",
              "      <th>15057</th>\n",
              "      <td>58559</td>\n",
              "      <td>The Dark Knight</td>\n",
              "      <td>2008</td>\n",
              "      <td>12269</td>\n",
              "      <td>8</td>\n",
              "      <td>123.167259</td>\n",
              "      <td>batman rais stake war crime help lt jim gordon...</td>\n",
              "    </tr>\n",
              "    <tr>\n",
              "      <th>24256</th>\n",
              "      <td>58559</td>\n",
              "      <td>The Dark Knight</td>\n",
              "      <td>2008</td>\n",
              "      <td>12269</td>\n",
              "      <td>8</td>\n",
              "      <td>123.167259</td>\n",
              "      <td>batman rais stake war crime help lt jim gordon...</td>\n",
              "    </tr>\n",
              "    <tr>\n",
              "      <th>19722</th>\n",
              "      <td>72998</td>\n",
              "      <td>Avatar</td>\n",
              "      <td>2009</td>\n",
              "      <td>12114</td>\n",
              "      <td>7</td>\n",
              "      <td>185.070892</td>\n",
              "      <td>22nd centuri parapleg marin dispatch moon pand...</td>\n",
              "    </tr>\n",
              "  </tbody>\n",
              "</table>\n",
              "</div>"
            ],
            "text/plain": [
              "       movieId            title  year  vote_count  vote_average  popularity  \\\n",
              "29996    79132        Inception  2010       14075             8   29.108149   \n",
              "20651    79132        Inception  2010       14075             8   29.108149   \n",
              "15057    58559  The Dark Knight  2008       12269             8  123.167259   \n",
              "24256    58559  The Dark Knight  2008       12269             8  123.167259   \n",
              "19722    72998           Avatar  2009       12114             7  185.070892   \n",
              "\n",
              "                                            pro_overview  \n",
              "29996  cobb skill thief commit corpor espionag infilt...  \n",
              "20651  cobb skill thief commit corpor espionag infilt...  \n",
              "15057  batman rais stake war crime help lt jim gordon...  \n",
              "24256  batman rais stake war crime help lt jim gordon...  \n",
              "19722  22nd centuri parapleg marin dispatch moon pand...  "
            ]
          },
          "metadata": {
            "tags": []
          },
          "execution_count": 53
        }
      ]
    },
    {
      "metadata": {
        "id": "_ZtiV6LWODtt",
        "colab_type": "code",
        "colab": {}
      },
      "cell_type": "code",
      "source": [
        "# Using UMBC's API service to get latent sematic similarity score\n",
        "sss_url = \"http://swoogle.umbc.edu/SimService/GetSimilarity\"\n",
        "\n",
        "def sss(s1, s2, type='relation', corpus='webbase'):\n",
        "    try:\n",
        "        response = get(sss_url, params={'operation':'api','phrase1':s1,'phrase2':s2,'type':type,'corpus':corpus})\n",
        "        return float(response.text.strip())\n",
        "    except:\n",
        "        #print ('Error in getting similarity for %s: %s' % ((s1,s2), response))\n",
        "        return 0.0"
      ],
      "execution_count": 0,
      "outputs": []
    },
    {
      "metadata": {
        "id": "XoLjOUbUODqg",
        "colab_type": "code",
        "colab": {}
      },
      "cell_type": "code",
      "source": [
        "user_1_movies=[]\n",
        "for movieId in ratings[(ratings['userId']==1) & (ratings['rating']>2.5)]['movieId'].tolist():\n",
        "    user_1_movies.append(movies_metadata[movies_metadata['movieId']==movieId]['pro_overview'].iloc[0])\n",
        "user_1_movies = ' '.join(user_1_movies)"
      ],
      "execution_count": 0,
      "outputs": []
    },
    {
      "metadata": {
        "id": "M66DxzufODjW",
        "colab_type": "code",
        "outputId": "ae099a61-2b19-48a3-f84f-bd149b7ed49a",
        "colab": {
          "base_uri": "https://localhost:8080/",
          "height": 54
        }
      },
      "cell_type": "code",
      "source": [
        "user_1_movies"
      ],
      "execution_count": 0,
      "outputs": [
        {
          "output_type": "execute_result",
          "data": {
            "text/plain": [
              "'dumbo babi eleph born overs ear suprem lack confid thank even diminut buddi timothi mous pintsiz pachyderm learn surmount obstacl two gangster seek reveng state jail worker stay youth prison sexual abus sensat court hear take place charg crime move drama director barri levinson filmmak recal childhood fell love movi villag theater form deep friendship theater projectionist dracula leaf captiv jonathan harker transylvania london search mina harker spit imag dracula longdead wife elisabeta obsess vampir hunter dr van hels set end mad tough narcot detect popey doyl hot pursuit suav french drug dealer may key huge heroinsmuggl oper kevin flynn search proof invent hit video game digit laser find insid grid program suffer tyrann rule master control program help tron secur program flynn seek free grid mcp miseri brought small group sho kalahari desert form cola bottl quest throw evil object edg earth xixo encount western civil haphazard doctor tyran despot town – everyon seem name johnson – way railroad order grab land hedley lemar polit connect nasti person send henchman make town unliv sheriff kill town demand new sheriff governor hedley convinc send town first black sheriff west'"
            ]
          },
          "metadata": {
            "tags": []
          },
          "execution_count": 56
        }
      ]
    },
    {
      "metadata": {
        "id": "hpSw7ThsXOOP",
        "colab_type": "code",
        "outputId": "f062539a-deaa-4f3e-8625-07c3d54ba2b5",
        "colab": {
          "base_uri": "https://localhost:8080/",
          "height": 589
        }
      },
      "cell_type": "code",
      "source": [
        "%%time\n",
        "top_movies['similarity'] = top_movies['pro_overview'].apply(lambda x:sss(user_1_movies,x))"
      ],
      "execution_count": 0,
      "outputs": [
        {
          "output_type": "error",
          "ename": "NameError",
          "evalue": "ignored",
          "traceback": [
            "\u001b[0;31m---------------------------------------------------------------------------\u001b[0m",
            "\u001b[0;31mNameError\u001b[0m                                 Traceback (most recent call last)",
            "\u001b[0;32m<ipython-input-1-378b2f75ea3a>\u001b[0m in \u001b[0;36m<module>\u001b[0;34m()\u001b[0m\n\u001b[0;32m----> 1\u001b[0;31m \u001b[0mget_ipython\u001b[0m\u001b[0;34m(\u001b[0m\u001b[0;34m)\u001b[0m\u001b[0;34m.\u001b[0m\u001b[0mrun_cell_magic\u001b[0m\u001b[0;34m(\u001b[0m\u001b[0;34m'time'\u001b[0m\u001b[0;34m,\u001b[0m \u001b[0;34m''\u001b[0m\u001b[0;34m,\u001b[0m \u001b[0;34m\"top_movies['similarity'] = top_movies['pro_overview'].apply(lambda x:sss(user_1_movies,x))\"\u001b[0m\u001b[0;34m)\u001b[0m\u001b[0;34m\u001b[0m\u001b[0;34m\u001b[0m\u001b[0m\n\u001b[0m",
            "\u001b[0;32m/usr/local/lib/python3.6/dist-packages/IPython/core/interactiveshell.py\u001b[0m in \u001b[0;36mrun_cell_magic\u001b[0;34m(self, magic_name, line, cell)\u001b[0m\n\u001b[1;32m   2115\u001b[0m             \u001b[0mmagic_arg_s\u001b[0m \u001b[0;34m=\u001b[0m \u001b[0mself\u001b[0m\u001b[0;34m.\u001b[0m\u001b[0mvar_expand\u001b[0m\u001b[0;34m(\u001b[0m\u001b[0mline\u001b[0m\u001b[0;34m,\u001b[0m \u001b[0mstack_depth\u001b[0m\u001b[0;34m)\u001b[0m\u001b[0;34m\u001b[0m\u001b[0;34m\u001b[0m\u001b[0m\n\u001b[1;32m   2116\u001b[0m             \u001b[0;32mwith\u001b[0m \u001b[0mself\u001b[0m\u001b[0;34m.\u001b[0m\u001b[0mbuiltin_trap\u001b[0m\u001b[0;34m:\u001b[0m\u001b[0;34m\u001b[0m\u001b[0;34m\u001b[0m\u001b[0m\n\u001b[0;32m-> 2117\u001b[0;31m                 \u001b[0mresult\u001b[0m \u001b[0;34m=\u001b[0m \u001b[0mfn\u001b[0m\u001b[0;34m(\u001b[0m\u001b[0mmagic_arg_s\u001b[0m\u001b[0;34m,\u001b[0m \u001b[0mcell\u001b[0m\u001b[0;34m)\u001b[0m\u001b[0;34m\u001b[0m\u001b[0;34m\u001b[0m\u001b[0m\n\u001b[0m\u001b[1;32m   2118\u001b[0m             \u001b[0;32mreturn\u001b[0m \u001b[0mresult\u001b[0m\u001b[0;34m\u001b[0m\u001b[0;34m\u001b[0m\u001b[0m\n\u001b[1;32m   2119\u001b[0m \u001b[0;34m\u001b[0m\u001b[0m\n",
            "\u001b[0;32m</usr/local/lib/python3.6/dist-packages/decorator.py:decorator-gen-60>\u001b[0m in \u001b[0;36mtime\u001b[0;34m(self, line, cell, local_ns)\u001b[0m\n",
            "\u001b[0;32m/usr/local/lib/python3.6/dist-packages/IPython/core/magic.py\u001b[0m in \u001b[0;36m<lambda>\u001b[0;34m(f, *a, **k)\u001b[0m\n\u001b[1;32m    186\u001b[0m     \u001b[0;31m# but it's overkill for just that one bit of state.\u001b[0m\u001b[0;34m\u001b[0m\u001b[0;34m\u001b[0m\u001b[0;34m\u001b[0m\u001b[0m\n\u001b[1;32m    187\u001b[0m     \u001b[0;32mdef\u001b[0m \u001b[0mmagic_deco\u001b[0m\u001b[0;34m(\u001b[0m\u001b[0marg\u001b[0m\u001b[0;34m)\u001b[0m\u001b[0;34m:\u001b[0m\u001b[0;34m\u001b[0m\u001b[0;34m\u001b[0m\u001b[0m\n\u001b[0;32m--> 188\u001b[0;31m         \u001b[0mcall\u001b[0m \u001b[0;34m=\u001b[0m \u001b[0;32mlambda\u001b[0m \u001b[0mf\u001b[0m\u001b[0;34m,\u001b[0m \u001b[0;34m*\u001b[0m\u001b[0ma\u001b[0m\u001b[0;34m,\u001b[0m \u001b[0;34m**\u001b[0m\u001b[0mk\u001b[0m\u001b[0;34m:\u001b[0m \u001b[0mf\u001b[0m\u001b[0;34m(\u001b[0m\u001b[0;34m*\u001b[0m\u001b[0ma\u001b[0m\u001b[0;34m,\u001b[0m \u001b[0;34m**\u001b[0m\u001b[0mk\u001b[0m\u001b[0;34m)\u001b[0m\u001b[0;34m\u001b[0m\u001b[0;34m\u001b[0m\u001b[0m\n\u001b[0m\u001b[1;32m    189\u001b[0m \u001b[0;34m\u001b[0m\u001b[0m\n\u001b[1;32m    190\u001b[0m         \u001b[0;32mif\u001b[0m \u001b[0mcallable\u001b[0m\u001b[0;34m(\u001b[0m\u001b[0marg\u001b[0m\u001b[0;34m)\u001b[0m\u001b[0;34m:\u001b[0m\u001b[0;34m\u001b[0m\u001b[0;34m\u001b[0m\u001b[0m\n",
            "\u001b[0;32m/usr/local/lib/python3.6/dist-packages/IPython/core/magics/execution.py\u001b[0m in \u001b[0;36mtime\u001b[0;34m(self, line, cell, local_ns)\u001b[0m\n\u001b[1;32m   1191\u001b[0m         \u001b[0;32melse\u001b[0m\u001b[0;34m:\u001b[0m\u001b[0;34m\u001b[0m\u001b[0;34m\u001b[0m\u001b[0m\n\u001b[1;32m   1192\u001b[0m             \u001b[0mst\u001b[0m \u001b[0;34m=\u001b[0m \u001b[0mclock2\u001b[0m\u001b[0;34m(\u001b[0m\u001b[0;34m)\u001b[0m\u001b[0;34m\u001b[0m\u001b[0;34m\u001b[0m\u001b[0m\n\u001b[0;32m-> 1193\u001b[0;31m             \u001b[0mexec\u001b[0m\u001b[0;34m(\u001b[0m\u001b[0mcode\u001b[0m\u001b[0;34m,\u001b[0m \u001b[0mglob\u001b[0m\u001b[0;34m,\u001b[0m \u001b[0mlocal_ns\u001b[0m\u001b[0;34m)\u001b[0m\u001b[0;34m\u001b[0m\u001b[0;34m\u001b[0m\u001b[0m\n\u001b[0m\u001b[1;32m   1194\u001b[0m             \u001b[0mend\u001b[0m \u001b[0;34m=\u001b[0m \u001b[0mclock2\u001b[0m\u001b[0;34m(\u001b[0m\u001b[0;34m)\u001b[0m\u001b[0;34m\u001b[0m\u001b[0;34m\u001b[0m\u001b[0m\n\u001b[1;32m   1195\u001b[0m             \u001b[0mout\u001b[0m \u001b[0;34m=\u001b[0m \u001b[0;32mNone\u001b[0m\u001b[0;34m\u001b[0m\u001b[0;34m\u001b[0m\u001b[0m\n",
            "\u001b[0;32m<timed exec>\u001b[0m in \u001b[0;36m<module>\u001b[0;34m()\u001b[0m\n",
            "\u001b[0;31mNameError\u001b[0m: name 'top_movies' is not defined"
          ]
        }
      ]
    },
    {
      "metadata": {
        "id": "yL-Yux1iXOFX",
        "colab_type": "code",
        "colab": {}
      },
      "cell_type": "code",
      "source": [
        "top_movies.head()"
      ],
      "execution_count": 0,
      "outputs": []
    },
    {
      "metadata": {
        "id": "OM10-57YXN7U",
        "colab_type": "code",
        "colab": {}
      },
      "cell_type": "code",
      "source": [
        "top_movies[top_movies.movieId.isin(ratings[ratings['userId']!=1]['movieId'].tolist())][['title','similarity','vote_count','vote_average']].sort_values(by='similarity',ascending=False).head(10)"
      ],
      "execution_count": 0,
      "outputs": []
    },
    {
      "metadata": {
        "id": "dlieA56yXNz3",
        "colab_type": "code",
        "colab": {}
      },
      "cell_type": "code",
      "source": [
        "#Let's create a recommender based on the above method\n",
        "def user_taste_recommender(userId,percentile = 0.90):\n",
        "    no_of_votes = movies_metadata[movies_metadata['vote_count'].notnull()]['vote_count'].astype('int')\n",
        "    vote_mean = movies_metadata[movies_metadata['vote_average'].notnull()]['vote_average'].astype('int')\n",
        "    C = vote_mean.mean()\n",
        "    m = no_of_votes.quantile(percentile)\n",
        "\n",
        "    top_movies = movies_metadata[(movies_metadata['vote_count'] >= m) & (movies_metadata['vote_count'].notnull()) & (movies_metadata['vote_average'].notnull())][['movieId','title', 'year', 'vote_count', 'vote_average', 'popularity','pro_overview']]\n",
        "    top_movies['vote_count'] = top_movies['vote_count'].astype('int')\n",
        "    top_movies['vote_average'] = top_movies['vote_average'].astype('int')\n",
        "    \n",
        "    user_movies=[]\n",
        "    for movieId in ratings[(ratings['userId']==userId) & (ratings['rating']>2.5)]['movieId'].tolist():\n",
        "        user_movies.append(movies_metadata[movies_metadata['movieId']==movieId]['pro_overview'].iloc[0])\n",
        "    user_movies = ' '.join(user_movies)\n",
        "    \n",
        "    top_movies['similarity'] = top_movies['pro_overview'].apply(lambda x:sss(user_movies,x))\n",
        "    top_movies = top_movies[top_movies.movieId.isin(ratings[ratings['userId']!=userId]['movieId'].tolist())][['title','similarity','vote_count','vote_average']].sort_values(by='similarity',ascending=False).head(10)\n",
        "    \n",
        "    return top_movies"
      ],
      "execution_count": 0,
      "outputs": []
    },
    {
      "metadata": {
        "id": "w_xdPmOnfTkZ",
        "colab_type": "code",
        "colab": {}
      },
      "cell_type": "code",
      "source": [
        "%%time\n",
        "user_taste_recommender(100)"
      ],
      "execution_count": 0,
      "outputs": []
    },
    {
      "metadata": {
        "id": "7Z5ejiZLZRSP",
        "colab_type": "text"
      },
      "cell_type": "markdown",
      "source": [
        "Just getting recommendation based on movie's synopsis dosent provide eye catching results, and is not reliable enough as Latent Semantic Similarity here takes into account movies from all the genre and most importantly, takes lot of time to calculate through the UMBC's API for soo many movies, So we will try Consine similarity from sklearn's linear kernel which is much faster to calculate"
      ]
    },
    {
      "metadata": {
        "id": "cESoq-NCZX-X",
        "colab_type": "text"
      },
      "cell_type": "markdown",
      "source": [
        "Also, lets add tagline to the description and check if we get better recommendations"
      ]
    },
    {
      "metadata": {
        "id": "2_PTfaRvZL12",
        "colab_type": "code",
        "colab": {}
      },
      "cell_type": "code",
      "source": [
        "movies_metadata['tagline'] = movies_metadata['tagline'].fillna('')\n",
        "movies_metadata['description'] = movies_metadata['pro_overview'] + movies_metadata['tagline']\n",
        "movies_metadata['description'] = movies_metadata['description'].fillna('')"
      ],
      "execution_count": 0,
      "outputs": []
    },
    {
      "metadata": {
        "id": "VCWXLxPMZLzc",
        "colab_type": "code",
        "colab": {}
      },
      "cell_type": "code",
      "source": [
        "movies_metadata['description'].head()"
      ],
      "execution_count": 0,
      "outputs": []
    },
    {
      "metadata": {
        "id": "mkS9vk3gZLwR",
        "colab_type": "code",
        "colab": {}
      },
      "cell_type": "code",
      "source": [
        "tf = TfidfVectorizer(analyzer='word',ngram_range=(1, 2),min_df=0, stop_words='english')\n",
        "tfidf_matrix = tf.fit_transform(movies_metadata['description'])"
      ],
      "execution_count": 0,
      "outputs": []
    },
    {
      "metadata": {
        "id": "RfxtitqmZ8Ey",
        "colab_type": "code",
        "colab": {}
      },
      "cell_type": "code",
      "source": [
        "tfidf_matrix.shape"
      ],
      "execution_count": 0,
      "outputs": []
    },
    {
      "metadata": {
        "id": "DroBaz2kZyHQ",
        "colab_type": "text"
      },
      "cell_type": "markdown",
      "source": [
        "#### Cosine Similarity\n",
        "I will be using the Cosine Similarity to calculate a numeric quantity that denotes the similarity between two movies. Mathematically, it is defined as follows:\n",
        "\n",
        "cosine(x,y)=x.y⊺||x||.||y|| \n",
        "Since we have used the TF-IDF Vectorizer, calculating the Dot Product will directly give us the Cosine Similarity Score. Therefore, we will use sklearn's linear_kernel instead of cosine_similarities since it is much faster."
      ]
    },
    {
      "metadata": {
        "id": "jLBWWFiWZLtS",
        "colab_type": "code",
        "colab": {}
      },
      "cell_type": "code",
      "source": [
        "cosine_sim = linear_kernel(tfidf_matrix, tfidf_matrix)"
      ],
      "execution_count": 0,
      "outputs": []
    },
    {
      "metadata": {
        "id": "qku0YOiBZLp_",
        "colab_type": "code",
        "colab": {}
      },
      "cell_type": "code",
      "source": [
        "cosine_sim[0]"
      ],
      "execution_count": 0,
      "outputs": []
    },
    {
      "metadata": {
        "id": "Ouea8R3jXNsm",
        "colab_type": "code",
        "colab": {}
      },
      "cell_type": "code",
      "source": [
        "We now have a pairwise cosine similarity matrix for all the movies in our dataset. The next step is to write a function that returns the 30 most similar movies based on the cosine similarity score."
      ],
      "execution_count": 0,
      "outputs": []
    },
    {
      "metadata": {
        "id": "4OBxAhLjXNjx",
        "colab_type": "code",
        "colab": {}
      },
      "cell_type": "code",
      "source": [
        "movies_metadata = movies_metadata.reset_index()\n",
        "titles = movies_metadata['title']\n",
        "indexes = pd.Series(movies_metadata.index, index=movies_metadata['title'])"
      ],
      "execution_count": 0,
      "outputs": []
    },
    {
      "metadata": {
        "id": "5T-m5JfuaWgd",
        "colab_type": "code",
        "colab": {}
      },
      "cell_type": "code",
      "source": [
        "#To get pairwise similarity score for movie with index 0\n",
        "similarity =  list(enumerate(cosine_sim[0]))\n",
        "print(similarity[:10])"
      ],
      "execution_count": 0,
      "outputs": []
    },
    {
      "metadata": {
        "id": "W3x3dz6naazw",
        "colab_type": "code",
        "colab": {}
      },
      "cell_type": "code",
      "source": [
        "def desc_based_recommendation(title):\n",
        "    idx = indexes[title]\n",
        "    sim = list(enumerate(cosine_sim[idx]))\n",
        "    #Sorting the list by descending order of similarity\n",
        "    sim = sorted(sim, key=lambda x: x[1], reverse=True)\n",
        "    #Taking top 30 similar movies\n",
        "    sim = sim[1:31]\n",
        "    rec_movies_indexes = [i[0] for i in sim]\n",
        "    return titles.iloc[rec_movies_indexes]"
      ],
      "execution_count": 0,
      "outputs": []
    },
    {
      "metadata": {
        "id": "PqIkJwOWamA-",
        "colab_type": "text"
      },
      "cell_type": "markdown",
      "source": [
        "Let's check recommendatio for start war"
      ]
    },
    {
      "metadata": {
        "id": "TIJ0zAseaaxQ",
        "colab_type": "code",
        "colab": {}
      },
      "cell_type": "code",
      "source": [
        "desc_based_recommendation('Star Wars').head(10)"
      ],
      "execution_count": 0,
      "outputs": []
    },
    {
      "metadata": {
        "id": "xPkqYQZ7axKx",
        "colab_type": "text"
      },
      "cell_type": "markdown",
      "source": [
        "We get Return of Jedi and Star Wars: The Force Awakens as a recommendation for star wars which is goodl!"
      ]
    },
    {
      "metadata": {
        "id": "1QdHbZ6Yaauo",
        "colab_type": "code",
        "colab": {}
      },
      "cell_type": "code",
      "source": [
        ""
      ],
      "execution_count": 0,
      "outputs": []
    },
    {
      "metadata": {
        "id": "KLXdnqoXa39k",
        "colab_type": "text"
      },
      "cell_type": "markdown",
      "source": [
        "#### Metadata Based Recommender\n",
        "\n",
        "Lets add more details like cast, crew , directors, keywords etc to get better similarity score for movies with similar content.\n",
        "To do the same we need to prepare this data as our first step."
      ]
    },
    {
      "metadata": {
        "id": "WFFNSc41aar2",
        "colab_type": "code",
        "colab": {}
      },
      "cell_type": "code",
      "source": [
        "#loading data from credits.csv for cast and crew, and Keywords.csv for keywords related to movies\n",
        "credits = pd.read_csv('credits.csv')\n",
        "keywords = pd.read_csv('keywords.csv')"
      ],
      "execution_count": 0,
      "outputs": []
    },
    {
      "metadata": {
        "id": "bafeMzEKaapU",
        "colab_type": "code",
        "colab": {}
      },
      "cell_type": "code",
      "source": [
        "#Converting id's to int\n",
        "keywords['id'] = keywords['id'].astype('int')\n",
        "credits['id'] = credits['id'].astype('int')\n",
        "movies_metadata['id'] = movies_metadata['id'].astype('int')"
      ],
      "execution_count": 0,
      "outputs": []
    },
    {
      "metadata": {
        "id": "3Y42CJQoaamt",
        "colab_type": "code",
        "colab": {}
      },
      "cell_type": "code",
      "source": [
        "# Add Cast and Crew column to our movies dataset\n",
        "movies_metadata = movies_metadata.merge(credits, on='id')\n",
        "#Add Keywords to the dataset\n",
        "movies_metadata = movies_metadata.merge(keywords, on='id')"
      ],
      "execution_count": 0,
      "outputs": []
    },
    {
      "metadata": {
        "id": "pcOluYrTaakJ",
        "colab_type": "code",
        "colab": {}
      },
      "cell_type": "code",
      "source": [
        "movies_metadata.head()"
      ],
      "execution_count": 0,
      "outputs": []
    },
    {
      "metadata": {
        "id": "ckzhupexaaho",
        "colab_type": "code",
        "colab": {}
      },
      "cell_type": "code",
      "source": [
        ""
      ],
      "execution_count": 0,
      "outputs": []
    },
    {
      "metadata": {
        "id": "pZb2iz0qbKRB",
        "colab_type": "text"
      },
      "cell_type": "markdown",
      "source": [
        "After getting the data in a single dataframe, we can get the following from the data:\n",
        "<p><b> Crew:</b>\n",
        "Since director is the most important person in the crew of the movie, we will take it as our feature from the crew\n",
        "<p><b>  Cast: </b>\n",
        "We will take the first 3 actors from the Cast"
      ]
    },
    {
      "metadata": {
        "id": "lmZ301sLaae9",
        "colab_type": "code",
        "colab": {}
      },
      "cell_type": "code",
      "source": [
        "#Checking for Python literal structures: strings, bytes, numbers, tuples, lists, dicts, sets, booleans, and None.\n",
        "movies_metadata['cast'] = movies_metadata['cast'].apply(literal_eval)\n",
        "movies_metadata['crew'] = movies_metadata['crew'].apply(literal_eval)\n",
        "movies_metadata['keywords'] = movies_metadata['keywords'].apply(literal_eval)\n",
        "#Get the cast and crew size\n",
        "movies_metadata['cast_size'] = movies_metadata['cast'].apply(lambda x: len(x))\n",
        "movies_metadata['crew_size'] = movies_metadata['crew'].apply(lambda x: len(x))"
      ],
      "execution_count": 0,
      "outputs": []
    },
    {
      "metadata": {
        "id": "rzx9H41baacX",
        "colab_type": "code",
        "colab": {}
      },
      "cell_type": "code",
      "source": [
        "# function to get director from the dict of crew\n",
        "def get_director(d):\n",
        "    for i in d:\n",
        "        if i['job'] == 'Director':\n",
        "            return i['name']\n",
        "    return np.nan"
      ],
      "execution_count": 0,
      "outputs": []
    },
    {
      "metadata": {
        "id": "qChYM8EAaaZs",
        "colab_type": "code",
        "colab": {}
      },
      "cell_type": "code",
      "source": [
        "movies_metadata['director'] = movies_metadata['crew'].apply(get_director)"
      ],
      "execution_count": 0,
      "outputs": []
    },
    {
      "metadata": {
        "id": "-A2uVz55aaXG",
        "colab_type": "code",
        "colab": {}
      },
      "cell_type": "code",
      "source": [
        "movies_metadata['cast'] = movies_metadata['cast'].apply(lambda x: [i['name'] for i in x] if isinstance(x, list) else [])\n",
        "movies_metadata['cast'] = movies_metadata['cast'].apply(lambda x: x[:3] if len(x) >=3 else x)"
      ],
      "execution_count": 0,
      "outputs": []
    },
    {
      "metadata": {
        "id": "oe_5zkuCaaUn",
        "colab_type": "code",
        "colab": {}
      },
      "cell_type": "code",
      "source": [
        "movies_metadata['keywords'] = movies_metadata['keywords'].apply(lambda x: [i['name'] for i in x] if isinstance(x, list) else [])"
      ],
      "execution_count": 0,
      "outputs": []
    },
    {
      "metadata": {
        "id": "6NQ0t_6xbbu_",
        "colab_type": "text"
      },
      "cell_type": "markdown",
      "source": [
        "We will add genre, keywords, director and main actors and create count matrix using count vectorizer as we did in Description based recommender and follow similar steps to calculate cosine similarities to get most similar movies.\n",
        "\n",
        "- Remove Spaces between names\n",
        "- Convert all features to lower case\n",
        "- This will help to distinguish between Christopher Nolen and Christopher Columbus\n",
        "- To get movies with same director more often, we will add director 3 times and provide additional weight to this feature"
      ]
    },
    {
      "metadata": {
        "id": "6V2M2Ua3aaRz",
        "colab_type": "code",
        "colab": {}
      },
      "cell_type": "code",
      "source": [
        "#Remove spaces between names\n",
        "movies_metadata['cast'] = movies_metadata['cast'].apply(lambda x: [str.lower(i.replace(\" \", \"\")) for i in x])"
      ],
      "execution_count": 0,
      "outputs": []
    },
    {
      "metadata": {
        "id": "8-M-mMMgaaPR",
        "colab_type": "code",
        "colab": {}
      },
      "cell_type": "code",
      "source": [
        "#Remove spaces between names\n",
        "movies_metadata['director'] = movies_metadata['director'].astype('str').apply(lambda x: str.lower(x.replace(\" \", \"\")))\n",
        "#Add more weight to director\n",
        "movies_metadata['director'] = movies_metadata['director'].apply(lambda x: [x,x, x])"
      ],
      "execution_count": 0,
      "outputs": []
    },
    {
      "metadata": {
        "id": "TQ0kPV-gaaMm",
        "colab_type": "code",
        "colab": {}
      },
      "cell_type": "code",
      "source": [
        ""
      ],
      "execution_count": 0,
      "outputs": []
    },
    {
      "metadata": {
        "id": "Yd-60MLxboM7",
        "colab_type": "text"
      },
      "cell_type": "markdown",
      "source": [
        "<b>Keywords:</b>\n",
        "We only require keywords that occur more than once, having keywords that occur just once will increase complexity and reduce similarity score. So let's count the keywords and keep only those occuring more than once"
      ]
    },
    {
      "metadata": {
        "id": "FXxkkAf7aaJv",
        "colab_type": "code",
        "colab": {}
      },
      "cell_type": "code",
      "source": [
        "k = movies_metadata.apply(lambda x: pd.Series(x['keywords']),axis=1).stack().reset_index(level=1, drop=True)\n",
        "k.name = 'keyword'"
      ],
      "execution_count": 0,
      "outputs": []
    },
    {
      "metadata": {
        "id": "CW12vUf3aaGe",
        "colab_type": "code",
        "colab": {}
      },
      "cell_type": "code",
      "source": [
        "k = k.value_counts()\n",
        "k[:5]"
      ],
      "execution_count": 0,
      "outputs": []
    },
    {
      "metadata": {
        "id": "c4cBNTOXaaDb",
        "colab_type": "code",
        "colab": {}
      },
      "cell_type": "code",
      "source": [
        "#Removing keyword occuring just once\n",
        "k = k[k > 1]"
      ],
      "execution_count": 0,
      "outputs": []
    },
    {
      "metadata": {
        "id": "zwzpLeEwb0p5",
        "colab_type": "text"
      },
      "cell_type": "markdown",
      "source": [
        "Using Snowball Stemmer, lets take the word back to its root form. This helps to reduce same features like forest and forests"
      ]
    },
    {
      "metadata": {
        "id": "o7fZYdd3aZ_5",
        "colab_type": "code",
        "colab": {}
      },
      "cell_type": "code",
      "source": [
        "stemmer = SnowballStemmer('english')\n",
        "stemmer.stem('forests')"
      ],
      "execution_count": 0,
      "outputs": []
    },
    {
      "metadata": {
        "id": "LXV2I0pbb35Z",
        "colab_type": "code",
        "colab": {}
      },
      "cell_type": "code",
      "source": [
        "def filter_keywords(x):\n",
        "    words = []\n",
        "    for i in x:\n",
        "        if i in k:\n",
        "            words.append(i)\n",
        "    return words"
      ],
      "execution_count": 0,
      "outputs": []
    },
    {
      "metadata": {
        "id": "CeGZk9nIb32Y",
        "colab_type": "code",
        "colab": {}
      },
      "cell_type": "code",
      "source": [
        "movies_metadata['keywords'] = movies_metadata['keywords'].apply(filter_keywords)\n",
        "movies_metadata['keywords'] = movies_metadata['keywords'].apply(lambda x: [stemmer.stem(i) for i in x])\n",
        "movies_metadata['keywords'] = movies_metadata['keywords'].apply(lambda x: [str.lower(i.replace(\" \", \"\")) for i in x])"
      ],
      "execution_count": 0,
      "outputs": []
    },
    {
      "metadata": {
        "id": "8qcrMzAvb3zV",
        "colab_type": "code",
        "colab": {}
      },
      "cell_type": "code",
      "source": [
        "movies_metadata['analyzer'] = movies_metadata['keywords'] + movies_metadata['cast'] + movies_metadata['director'] + movies_metadata['genres']\n",
        "movies_metadata['analyzer'] = movies_metadata['analyzer'].apply(lambda x: ' '.join(x))"
      ],
      "execution_count": 0,
      "outputs": []
    },
    {
      "metadata": {
        "id": "jhlw0R1sb3wX",
        "colab_type": "code",
        "colab": {}
      },
      "cell_type": "code",
      "source": [
        "count = CountVectorizer(analyzer='word',ngram_range=(1, 2),min_df=0, stop_words='english')\n",
        "count_matrix = count.fit_transform(movies_metadata['analyzer'])"
      ],
      "execution_count": 0,
      "outputs": []
    },
    {
      "metadata": {
        "id": "vUBa-eZhb3tb",
        "colab_type": "code",
        "colab": {}
      },
      "cell_type": "code",
      "source": [
        "# Get pairwise cosine similarity\n",
        "cosine_sim = cosine_similarity(count_matrix, count_matrix)"
      ],
      "execution_count": 0,
      "outputs": []
    },
    {
      "metadata": {
        "id": "S8gVQJx1b3ql",
        "colab_type": "code",
        "colab": {}
      },
      "cell_type": "code",
      "source": [
        "movies_metadata = movies_metadata.reset_index()\n",
        "titles = movies_metadata['title']\n",
        "indexes = pd.Series(movies_metadata.index, index=movies_metadata['title'])"
      ],
      "execution_count": 0,
      "outputs": []
    },
    {
      "metadata": {
        "id": "RvMmeNgsb3n0",
        "colab_type": "code",
        "colab": {}
      },
      "cell_type": "code",
      "source": [
        "desc_based_recommendation('Star Wars').head(10)"
      ],
      "execution_count": 0,
      "outputs": []
    },
    {
      "metadata": {
        "id": "CtAyXlgmcVIR",
        "colab_type": "text"
      },
      "cell_type": "markdown",
      "source": [
        "We get much better results this time, most of the star war related movies are covered. Let's try for another movie 'Inception'"
      ]
    },
    {
      "metadata": {
        "id": "PwXA_EhZb3kw",
        "colab_type": "code",
        "colab": {}
      },
      "cell_type": "code",
      "source": [
        "desc_based_recommendation('Inception').head(10)"
      ],
      "execution_count": 0,
      "outputs": []
    },
    {
      "metadata": {
        "id": "7zLfHLOHcbsw",
        "colab_type": "text"
      },
      "cell_type": "markdown",
      "source": [
        "This proves that adding weight to the director definetly works, as most of the movies in Top 10 is of Christopher Nolan"
      ]
    },
    {
      "metadata": {
        "id": "wlCdH8ySb3h5",
        "colab_type": "code",
        "colab": {}
      },
      "cell_type": "code",
      "source": [
        ""
      ],
      "execution_count": 0,
      "outputs": []
    },
    {
      "metadata": {
        "id": "qykyeNUscmTT",
        "colab_type": "text"
      },
      "cell_type": "markdown",
      "source": [
        "#### Popularity Based Recommendation\n",
        "Since our current recommender dosen't take popularity and ratings into account, it shows movies like 'Sky Captain and the World of Tomorrow' over many other popular movies.\n",
        "\n",
        "We will improve our recommendation system by returning only popular movies with more number of ratings\n",
        "\n",
        "let's take top 25 movies based on similarity scores and calculate the vote of the 70th percentile movie. Then, using this as the value of  m , we will calculate the weighted rating of each movie using IMDB's formula like we did in the Simple Recommender section."
      ]
    },
    {
      "metadata": {
        "id": "FkXy2FYbb3ex",
        "colab_type": "code",
        "colab": {}
      },
      "cell_type": "code",
      "source": [
        "def popularity_based_recommendations(title,percentile=0.70):\n",
        "    idx = indexes[title]\n",
        "    sim = list(enumerate(cosine_sim[idx]))\n",
        "    sim = sorted(sim, key=lambda x: x[1], reverse=True)\n",
        "    sim = sim[1:26]\n",
        "    req_index = [i[0] for i in sim]\n",
        "    \n",
        "    movies = movies_metadata.iloc[req_index][['title', 'vote_count', 'vote_average', 'year']]\n",
        "    no_of_votes = movies[movies['vote_count'].notnull()]['vote_count'].astype('int')\n",
        "    vote_mean = movies[movies['vote_average'].notnull()]['vote_average'].astype('int')\n",
        "    m = no_of_votes.quantile(percentile)\n",
        "    C = vote_mean.mean()\n",
        "    top_movies = movies[(movies['vote_count'] >= m) & (movies['vote_count'].notnull()) & (movies['vote_average'].notnull())]\n",
        "    top_movies['vote_count'] = top_movies['vote_count'].astype('int')\n",
        "    top_movies['vote_average'] = top_movies['vote_average'].astype('int')\n",
        "    top_movies['wr'] = top_movies.apply(weighted_rating, axis=1)\n",
        "    top_movies = top_movies.sort_values('wr', ascending=False).head(25)\n",
        "    return top_movies"
      ],
      "execution_count": 0,
      "outputs": []
    },
    {
      "metadata": {
        "id": "hVxaF_QWcsdF",
        "colab_type": "code",
        "colab": {}
      },
      "cell_type": "code",
      "source": [
        "popularity_based_recommendations('Star Wars')"
      ],
      "execution_count": 0,
      "outputs": []
    },
    {
      "metadata": {
        "id": "JoONjgXxcyeT",
        "colab_type": "text"
      },
      "cell_type": "markdown",
      "source": [
        "We get even better recommendation using popularity based recommender, as we get X-Men and Iron Man 2 in the list , which are my favourites "
      ]
    },
    {
      "metadata": {
        "id": "0N-v9tpNcsZ1",
        "colab_type": "code",
        "colab": {}
      },
      "cell_type": "code",
      "source": [
        ""
      ],
      "execution_count": 0,
      "outputs": []
    },
    {
      "metadata": {
        "id": "_si3wG4vc2vH",
        "colab_type": "text"
      },
      "cell_type": "markdown",
      "source": [
        "#### Collaborative Filtering*\n",
        "The Results from our popularity based recommender are impressive, we get most of the similar movies when querying for a movie. While content based are good when we have good amount of content for the movie like the name of actors, movie synopsis, director’s information etc. we always don’t have all the information required for making relevant recommendations. Also, while we tried to derive user’s taste by using movies overview and taglines as input to our model, the recommendations provided by a collaborative filtering model are way better than a content based model. Another advantage of using a collaborative filtering model over Content based model is that it doesn’t require any data related to movies content. We have built a CF model using Scikit learn’s Surprise library which provides a simple data ingestion for making recommendations through CF. It also provides powerful algorithms like Singular Value Decomposition(SVD) to minimize RMSE and provide great recommendations."
      ]
    },
    {
      "metadata": {
        "id": "hdRtPNhtcsWS",
        "colab_type": "code",
        "colab": {}
      },
      "cell_type": "code",
      "source": [
        ""
      ],
      "execution_count": 0,
      "outputs": []
    },
    {
      "metadata": {
        "id": "P7A_-JOXc-V0",
        "colab_type": "text"
      },
      "cell_type": "markdown",
      "source": [
        "*The code for Collaborative filtering is referred from Rounak Banik's Github Repository which can be accessed [here](https://github.com/rounakbanik/movies/blob/master/movies_recommender.ipynb)"
      ]
    },
    {
      "metadata": {
        "id": "YbCBzDM0csS-",
        "colab_type": "code",
        "colab": {}
      },
      "cell_type": "code",
      "source": [
        "reader = Reader()"
      ],
      "execution_count": 0,
      "outputs": []
    },
    {
      "metadata": {
        "id": "AIryM5cXcsPw",
        "colab_type": "code",
        "colab": {}
      },
      "cell_type": "code",
      "source": [
        "ratings = pd.read_csv('ratings.csv')\n",
        "ratings.head()"
      ],
      "execution_count": 0,
      "outputs": []
    },
    {
      "metadata": {
        "id": "g1LfPu5wcsMv",
        "colab_type": "code",
        "colab": {}
      },
      "cell_type": "code",
      "source": [
        "data = Dataset.load_from_df(ratings[['userId', 'movieId', 'rating']], reader)\n",
        "data.split(n_folds=5)"
      ],
      "execution_count": 0,
      "outputs": []
    },
    {
      "metadata": {
        "id": "m2QBAlYEcsJZ",
        "colab_type": "code",
        "colab": {}
      },
      "cell_type": "code",
      "source": [
        "svd = SVD()\n",
        "evaluate(svd, data, measures=['RMSE', 'MAE'])"
      ],
      "execution_count": 0,
      "outputs": []
    },
    {
      "metadata": {
        "id": "szXUnMCQdPhu",
        "colab_type": "text"
      },
      "cell_type": "markdown",
      "source": [
        "We get a mean Root Mean Sqaure Error of 0.8951 which is more than good enough for our case. Let us now train on our dataset and arrive at predictions."
      ]
    },
    {
      "metadata": {
        "id": "H1Ta9vMPcsGW",
        "colab_type": "code",
        "colab": {}
      },
      "cell_type": "code",
      "source": [
        "trainset = data.build_full_trainset()\n",
        "svd.train(trainset)"
      ],
      "execution_count": 0,
      "outputs": []
    },
    {
      "metadata": {
        "id": "gqA8WwtScsCs",
        "colab_type": "code",
        "colab": {}
      },
      "cell_type": "code",
      "source": [
        "#Provide userId, movieId and True Rating\n",
        "svd.predict(1, 302, 3)"
      ],
      "execution_count": 0,
      "outputs": []
    },
    {
      "metadata": {
        "id": "YvRm3jowdX-S",
        "colab_type": "text"
      },
      "cell_type": "markdown",
      "source": [
        "For movie with ID 302, we get an estimated prediction in range of 2.5-3.0. One startling feature of this recommender system is that it doesn't care what the movie is (or what it contains). It works purely on the basis of an assigned movie ID and tries to predict ratings based on how the other users have predicted the movie."
      ]
    },
    {
      "metadata": {
        "id": "7wTkgnJGcr_b",
        "colab_type": "code",
        "colab": {}
      },
      "cell_type": "code",
      "source": [
        ""
      ],
      "execution_count": 0,
      "outputs": []
    },
    {
      "metadata": {
        "id": "vDa1jlAAddkz",
        "colab_type": "text"
      },
      "cell_type": "markdown",
      "source": [
        "#### Hybrid Recommender*\n",
        "\n",
        "Hybrid Recommender leverages the best of both Content based and collaborative filtering techniques.\n",
        "\n",
        "Input: User ID and the Title of a Movie\n",
        "Output: Similar movies sorted on the basis of expected ratings by that particular user.\n",
        "\n",
        "*Part of code for Hybrid Recommendation is referred from Rounak Banik's Github Repository which can be accessed from [here](https://github.com/rounakbanik/movies/blob/master/movies_recommender.ipynb)"
      ]
    },
    {
      "metadata": {
        "id": "ZlG6n3npcr8M",
        "colab_type": "code",
        "colab": {}
      },
      "cell_type": "code",
      "source": [
        "links.drop('imdbId',axis=1,inplace=True)\n",
        "links.columns=['movieId', 'id']\n",
        "id_map = links.merge(movies_metadata[['title', 'id']], on='id').set_index('title'"
      ],
      "execution_count": 0,
      "outputs": []
    },
    {
      "metadata": {
        "id": "J92-njgmcr5C",
        "colab_type": "code",
        "colab": {}
      },
      "cell_type": "code",
      "source": [
        "indices_map = id_map.set_index('id')"
      ],
      "execution_count": 0,
      "outputs": []
    },
    {
      "metadata": {
        "id": "DJFGdLi3cr11",
        "colab_type": "code",
        "colab": {}
      },
      "cell_type": "code",
      "source": [
        "def hybrid(userId, title):\n",
        "    idx = indexes[title]\n",
        "    tmdbId = id_map.loc[title]['id']\n",
        "    #print(idx)\n",
        "    movie_id = id_map.loc[title]['movieId']\n",
        "    \n",
        "    sim_scores = list(enumerate(cosine_sim[int(idx)]))\n",
        "    sim_scores = sorted(sim_scores, key=lambda x: x[1], reverse=True)\n",
        "    sim_scores = sim_scores[1:26]\n",
        "    movie_indices = [i[0] for i in sim_scores]\n",
        "    \n",
        "    movies = movies_metadata.iloc[movie_indices][['title', 'vote_count','year', 'id']]\n",
        "    movies['est rating'] = movies['id'].apply(lambda x: svd.predict(userId, indices_map.loc[x]['movieId']).est)\n",
        "    movies = movies.sort_values('est rating', ascending=False)\n",
        "    return movies.head(10)"
      ],
      "execution_count": 0,
      "outputs": []
    },
    {
      "metadata": {
        "id": "QSBUg-Epcryu",
        "colab_type": "code",
        "colab": {}
      },
      "cell_type": "code",
      "source": [
        "hybrid(1, 'Avatar')"
      ],
      "execution_count": 0,
      "outputs": []
    },
    {
      "metadata": {
        "id": "qK6FYN_Pcrvt",
        "colab_type": "code",
        "colab": {}
      },
      "cell_type": "code",
      "source": [
        "hybrid(500, 'Avatar')"
      ],
      "execution_count": 0,
      "outputs": []
    },
    {
      "metadata": {
        "id": "R9ErImU-dwLE",
        "colab_type": "text"
      },
      "cell_type": "markdown",
      "source": [
        "We see that for our hybrid recommender, we get different recommendations for different users although the movie is the same. Hence, our recommendations are more personalized and tailored towards particular users"
      ]
    },
    {
      "metadata": {
        "id": "-GuVL12Tcrq2",
        "colab_type": "code",
        "colab": {}
      },
      "cell_type": "code",
      "source": [
        ""
      ],
      "execution_count": 0,
      "outputs": []
    },
    {
      "metadata": {
        "id": "QSDUUaNed0gr",
        "colab_type": "text"
      },
      "cell_type": "markdown",
      "source": [
        "### Conclusion\n",
        "<p>In this project, I have created 6 types of movie recommender systems:</p>\n",
        "<p><b>Simple Recommendaion System:</b></p>\n",
        "- We created Top Movies Charts based on Genre and utilized IMDB's Weighted Rating System to calculate ratings which was used to then sort and return top movies.\n",
        "\n",
        "<p><b>Content Based Recommendation System:</b> We built four content based recommendation engines</p>\n",
        "- First we gathered movie's overviews which a user has already seen and rated above average, then we used latent semantic similarity to get the similarity score and created a recommender that provides most similar story to user's liking.\n",
        "- On our second approach on creating taste based recommendation by using NLP techniques used for above, and added tagline to the description as an input\n",
        "- Next we considered metadata such as cast, crew, genre and keywords as input features to our Recommendation Engine, We also added weights features like director to get more similar results\n",
        "- We then improved our prediction by adding a popularity and ratings filter so that recommendations are given on popular movies\n",
        "\n",
        "<p><b>Collaborative Filtering Recommendation System:</b></p>\n",
        "- We used the powerful Surprise Library to build a collaborative filter based on single value decomposition(SVD). The RMSE obtained was less than 1 and the engine gave estimated ratings for a given user and movie.\n",
        "\n",
        "<p><b>Hybrid Recommendation System:</b></p>\n",
        "- Using ideas from Content based engine and Collaborative filtering based engine, we created a Hybrid recommender system which provided more personalized recommendations for users"
      ]
    },
    {
      "metadata": {
        "id": "sT38CfAQcrnS",
        "colab_type": "code",
        "colab": {}
      },
      "cell_type": "code",
      "source": [
        ""
      ],
      "execution_count": 0,
      "outputs": []
    },
    {
      "metadata": {
        "id": "D2uk403Ud-fF",
        "colab_type": "text"
      },
      "cell_type": "markdown",
      "source": [
        "The text in the document by Jai Soni is licensed under CC BY 3.0 https://creativecommons.org/licenses/by/3.0/us/\n",
        "\n",
        "The code in the document by Jai Soni is licensed under the MIT License https://opensource.org/licenses/MIT"
      ]
    },
    {
      "metadata": {
        "id": "o5M-WnkGcrjW",
        "colab_type": "code",
        "colab": {}
      },
      "cell_type": "code",
      "source": [
        ""
      ],
      "execution_count": 0,
      "outputs": []
    },
    {
      "metadata": {
        "id": "ohHagkkgeEAP",
        "colab_type": "text"
      },
      "cell_type": "markdown",
      "source": [
        "## References:\n",
        "\n",
        "- [1] Kordik, Pavel,https://medium.com/recombee-blog/recommender-systems-explained-d98e8221f468\n",
        "- [2] Manoj Kumar, D.K. Yadav, Ankur Singh, Vijay Kr. Gupta. International Journal of Computer Applications (0975 – 8887) Volume  124 – No.3, August 2015\n",
        "- [3] https://en.wikipedia.org/wiki/Recommender_system\n",
        "- [4] Recommender System for News Articles using Supervised Learning - Scientific Figure on ResearchGate. Available from: https://www.researchgate.net/Collaborative-Vs-Content-Based-Filtering_fig3_318129942 [accessed 21 Apr, 2018]\n",
        "- [5] Banik, Rounak, https://www.datacamp.com/community/tutorials/recommender-systems-python\n",
        "- [6] F. Maxwell Harper and Joseph A. Konstan. 2015. The MovieLens Datasets: History and Context. ACM Transactions on Interactive Intelligent Systems (TiiS) 5, 4, Article 19 (December 2015), 19 pages. DOI=http://dx.doi.org/10.1145/2827872 , Link for dataset https://grouplens.org/datasets/movielens/\n",
        "- [7] https://math.stackexchange.com/questions/169032/understanding-the-imdb-weighted-rating-function-for-usage-on-my-own-website\n",
        "- [8] http://language.worldofcomputing.net/category/tokenization\n",
        "- [9] https://pythonprogramming.net/stemming-nltk-tutorial/\n",
        "- [10] http://textminingonline.com/dive-into-nltk-part-iv-stemming-and-lemmatization\n",
        "- [11] https://en.wikipedia.org/wiki/Tf%E2%80%93idf\n",
        "- [12] Susan T. Dumais (2005). \"Latent Semantic Analysis\". Annual Review of Information Science and Technology. 38: 188–230. doi:10.1002/aris.1440380105.\n",
        "- [13] Lushan Han, Abhay L. Kashyap, Tim Finin, James Mayfield and Johnathan Weese, UMBC_EBIQUITY-CORE: Semantic Textual Similarity Systems, Proc. 2nd Joint Conf. on Lexical and Computational Semantics, Association for Computational Linguistics, June 2013.\n",
        "- [14]Christian S. Perone http://blog.christianperone.com/2013/09/machine-learning-cosine-similarity-for-vector-space-models-part-iii/\n",
        "- [15] Banik, Rounak https://github.com/rounakbanik/movies/blob/master/movies_recommender.ipynb\n",
        "- [16] Image Source: http://bgr.com/2016/03/18/find-movie-forgot-name-using-description/"
      ]
    },
    {
      "metadata": {
        "id": "N0mDORItb3be",
        "colab_type": "code",
        "colab": {}
      },
      "cell_type": "code",
      "source": [
        ""
      ],
      "execution_count": 0,
      "outputs": []
    },
    {
      "metadata": {
        "id": "z72x-6dveInb",
        "colab_type": "text"
      },
      "cell_type": "markdown",
      "source": [
        "### How to use this dataset while running the google colab\n",
        "- upload the datset in files parallel to sample_data(all ready presented in colab)"
      ]
    }
  ]
}